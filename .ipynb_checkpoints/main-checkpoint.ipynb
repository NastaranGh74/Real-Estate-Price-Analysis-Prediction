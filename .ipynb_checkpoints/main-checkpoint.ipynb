{
 "cells": [
  {
   "cell_type": "markdown",
   "metadata": {
    "id": "jEOFjq2yRCrS"
   },
   "source": [
    "# Loading Packages"
   ]
  },
  {
   "cell_type": "code",
   "execution_count": null,
   "metadata": {
    "id": "xycXyF_pRJXH"
   },
   "outputs": [],
   "source": [
    "import seaborn as sns\n",
    "import sklearn\n",
    "import matplotlib.pyplot as plt\n",
    "import numpy as np\n",
    "import pandas as pd\n",
    "from sklearn.preprocessing import MinMaxScaler, StandardScaler\n",
    "from sklearn.metrics import roc_curve\n",
    "from sklearn.metrics import auc\n",
    "\n",
    "import torch\n",
    "import torch.nn.functional as F\n",
    "import torch.nn as nn\n",
    "from torch.autograd import Variable\n",
    "from torch.utils.data import DataLoader, Dataset\n",
    "from sklearn.model_selection import train_test_split\n",
    "from scipy import stats\n",
    "from sklearn.model_selection import KFold"
   ]
  },
  {
   "cell_type": "markdown",
   "metadata": {
    "id": "wfxvA-vURLKD"
   },
   "source": [
    "# Data Preprocessing"
   ]
  },
  {
   "cell_type": "code",
   "execution_count": null,
   "metadata": {},
   "outputs": [],
   "source": [
    "hist = pd.read_csv('Property_Assessment_Data__Historical_.csv') # Historical data.\n",
    "re_data = pd.read_csv('EdmontonRealEstateData.csv') # Real estate (main) data."
   ]
  },
  {
   "cell_type": "markdown",
   "metadata": {
    "id": "wmINdnyGiCjV"
   },
   "source": [
    "Retrieve the assessed value in 2016 from the historical data set and join to provided data set using the account/taxroll number. I have assumed that re_data already contains the assessed value for 2015."
   ]
  },
  {
   "cell_type": "code",
   "execution_count": null,
   "metadata": {
    "id": "DCUB4-3EROf6"
   },
   "outputs": [],
   "source": [
    "hist_2016 = hist[hist['Assessment Year'] == 2016][['Account Number', 'Assessed Value']].rename(columns={'Assessed Value': 'Assessed Value 2016'})\n",
    "hist_2016 = hist_2016.set_index('Account Number')"
   ]
  },
  {
   "cell_type": "code",
   "execution_count": null,
   "metadata": {
    "colab": {
     "base_uri": "https://localhost:8080/",
     "height": 622
    },
    "id": "-YsjsA-efvwK",
    "outputId": "e198cd3d-f89f-4788-a967-d284ae166ac6"
   },
   "outputs": [
    {
     "data": {
      "text/html": [
       "<div>\n",
       "<style scoped>\n",
       "    .dataframe tbody tr th:only-of-type {\n",
       "        vertical-align: middle;\n",
       "    }\n",
       "\n",
       "    .dataframe tbody tr th {\n",
       "        vertical-align: top;\n",
       "    }\n",
       "\n",
       "    .dataframe thead th {\n",
       "        text-align: right;\n",
       "    }\n",
       "</style>\n",
       "<table border=\"1\" class=\"dataframe\">\n",
       "  <thead>\n",
       "    <tr style=\"text-align: right;\">\n",
       "      <th></th>\n",
       "      <th>landuse_description</th>\n",
       "      <th>building_name</th>\n",
       "      <th>market_building_class</th>\n",
       "      <th>property_type</th>\n",
       "      <th>effective_build_year</th>\n",
       "      <th>net_area</th>\n",
       "      <th>basement_finished</th>\n",
       "      <th>has_garage</th>\n",
       "      <th>has_fireplace</th>\n",
       "      <th>assessed_value</th>\n",
       "      <th>house_suit</th>\n",
       "      <th>house_number</th>\n",
       "      <th>house_suff</th>\n",
       "      <th>street_name</th>\n",
       "      <th>postal_code</th>\n",
       "      <th>city</th>\n",
       "      <th>full_address</th>\n",
       "      <th>neighbourhood</th>\n",
       "      <th>fully_taxable</th>\n",
       "      <th>fully_complete</th>\n",
       "      <th>lot_size</th>\n",
       "      <th>building_count</th>\n",
       "      <th>build_year_mbc</th>\n",
       "      <th>walkout_basement</th>\n",
       "      <th>air_conditioning</th>\n",
       "      <th>valuation_group</th>\n",
       "      <th>display_type</th>\n",
       "      <th>site_coverage</th>\n",
       "      <th>tot_gross_area_description</th>\n",
       "      <th>geometry</th>\n",
       "      <th>result_code</th>\n",
       "      <th>result_message</th>\n",
       "      <th>result_description</th>\n",
       "      <th>lon</th>\n",
       "      <th>lat</th>\n",
       "      <th>Assessed Value 2016</th>\n",
       "    </tr>\n",
       "    <tr>\n",
       "      <th>taxroll_number</th>\n",
       "      <th></th>\n",
       "      <th></th>\n",
       "      <th></th>\n",
       "      <th></th>\n",
       "      <th></th>\n",
       "      <th></th>\n",
       "      <th></th>\n",
       "      <th></th>\n",
       "      <th></th>\n",
       "      <th></th>\n",
       "      <th></th>\n",
       "      <th></th>\n",
       "      <th></th>\n",
       "      <th></th>\n",
       "      <th></th>\n",
       "      <th></th>\n",
       "      <th></th>\n",
       "      <th></th>\n",
       "      <th></th>\n",
       "      <th></th>\n",
       "      <th></th>\n",
       "      <th></th>\n",
       "      <th></th>\n",
       "      <th></th>\n",
       "      <th></th>\n",
       "      <th></th>\n",
       "      <th></th>\n",
       "      <th></th>\n",
       "      <th></th>\n",
       "      <th></th>\n",
       "      <th></th>\n",
       "      <th></th>\n",
       "      <th></th>\n",
       "      <th></th>\n",
       "      <th></th>\n",
       "      <th></th>\n",
       "    </tr>\n",
       "  </thead>\n",
       "  <tbody>\n",
       "    <tr>\n",
       "      <th>10195787</th>\n",
       "      <td>100% TELEPHONE/TELEGRAPH - OTHER</td>\n",
       "      <td>TELUS COMM STATION</td>\n",
       "      <td>COMPUTER CENTER</td>\n",
       "      <td>URBAN</td>\n",
       "      <td>2012</td>\n",
       "      <td>139.54</td>\n",
       "      <td>NO</td>\n",
       "      <td>NO</td>\n",
       "      <td>NO</td>\n",
       "      <td>331000</td>\n",
       "      <td>NaN</td>\n",
       "      <td>5904.0</td>\n",
       "      <td>NaN</td>\n",
       "      <td>10 AVENUE SW</td>\n",
       "      <td>T6X0T1</td>\n",
       "      <td>EDMONTON</td>\n",
       "      <td>5904 10 AVENUE SW EDMONTON AB T6X 0T1</td>\n",
       "      <td>WALKER</td>\n",
       "      <td>Yes</td>\n",
       "      <td>Yes</td>\n",
       "      <td>832.413 M2 / 8960 FT2 / .206 AC</td>\n",
       "      <td>1</td>\n",
       "      <td>2012, COMPUTER CENTER</td>\n",
       "      <td>NO</td>\n",
       "      <td>Yes</td>\n",
       "      <td>SPECIAL PURPOSE</td>\n",
       "      <td>NONRES</td>\n",
       "      <td>17%</td>\n",
       "      <td>139.54 M2 / 1502 FT2</td>\n",
       "      <td>{\\type\\\": \\\"Polygon\\\",\\\"coordinates\\\":[[[37824...</td>\n",
       "      <td>1110</td>\n",
       "      <td>Assessment found</td>\n",
       "      <td>NaN</td>\n",
       "      <td>-113.430747</td>\n",
       "      <td>53.424591</td>\n",
       "      <td>347,000.00</td>\n",
       "    </tr>\n",
       "    <tr>\n",
       "      <th>10195786</th>\n",
       "      <td>100% SINGLE FAMILY DWELLING</td>\n",
       "      <td>NaN</td>\n",
       "      <td>2 STOREY WITH BASEMENT</td>\n",
       "      <td>RESIDENTIAL</td>\n",
       "      <td>2011</td>\n",
       "      <td>188.50</td>\n",
       "      <td>Yes</td>\n",
       "      <td>Yes</td>\n",
       "      <td>Yes</td>\n",
       "      <td>470500</td>\n",
       "      <td>NaN</td>\n",
       "      <td>5908.0</td>\n",
       "      <td>NaN</td>\n",
       "      <td>10 AVENUE SW</td>\n",
       "      <td>T6X0T1</td>\n",
       "      <td>EDMONTON</td>\n",
       "      <td>5908 10 AVENUE SW EDMONTON AB T6X 0T1</td>\n",
       "      <td>WALKER</td>\n",
       "      <td>Yes</td>\n",
       "      <td>Yes</td>\n",
       "      <td>482.279 M2 / 5191.2 FT2 / .119 AC</td>\n",
       "      <td>1</td>\n",
       "      <td>2011, 2 STOREY WITH BASEMENT</td>\n",
       "      <td>NO</td>\n",
       "      <td>NO</td>\n",
       "      <td>RESIDENTIAL SOUTH</td>\n",
       "      <td>RES</td>\n",
       "      <td>25%</td>\n",
       "      <td>227.5 M2 / 2448.8 FT2</td>\n",
       "      <td>{\\type\\\": \\\"Polygon\\\",\\\"coordinates\\\":[[[37833...</td>\n",
       "      <td>1110</td>\n",
       "      <td>Assessment found</td>\n",
       "      <td>NaN</td>\n",
       "      <td>-113.430993</td>\n",
       "      <td>53.424599</td>\n",
       "      <td>483,000.00</td>\n",
       "    </tr>\n",
       "    <tr>\n",
       "      <th>10195785</th>\n",
       "      <td>100% SINGLE FAMILY DWELLING</td>\n",
       "      <td>NaN</td>\n",
       "      <td>2 STOREY WITH BASEMENT</td>\n",
       "      <td>RESIDENTIAL</td>\n",
       "      <td>2011</td>\n",
       "      <td>178.00</td>\n",
       "      <td>NO</td>\n",
       "      <td>Yes</td>\n",
       "      <td>Yes</td>\n",
       "      <td>442500</td>\n",
       "      <td>NaN</td>\n",
       "      <td>5912.0</td>\n",
       "      <td>NaN</td>\n",
       "      <td>10 AVENUE SW</td>\n",
       "      <td>T6X0T1</td>\n",
       "      <td>EDMONTON</td>\n",
       "      <td>5912 10 AVENUE SW EDMONTON AB T6X 0T1</td>\n",
       "      <td>WALKER</td>\n",
       "      <td>Yes</td>\n",
       "      <td>Yes</td>\n",
       "      <td>396.875 M2 / 4271.9 FT2 / .098 AC</td>\n",
       "      <td>1</td>\n",
       "      <td>2011, 2 STOREY WITH BASEMENT</td>\n",
       "      <td>NO</td>\n",
       "      <td>NO</td>\n",
       "      <td>RESIDENTIAL SOUTH</td>\n",
       "      <td>RES</td>\n",
       "      <td>29%</td>\n",
       "      <td>215.6 M2 / 2320.7 FT2</td>\n",
       "      <td>{\\type\\\": \\\"Polygon\\\",\\\"coordinates\\\":[[[37812...</td>\n",
       "      <td>1110</td>\n",
       "      <td>Assessment found</td>\n",
       "      <td>NaN</td>\n",
       "      <td>-113.431231</td>\n",
       "      <td>53.424560</td>\n",
       "      <td>453,500.00</td>\n",
       "    </tr>\n",
       "    <tr>\n",
       "      <th>10195784</th>\n",
       "      <td>100% SINGLE FAMILY DWELLING</td>\n",
       "      <td>NaN</td>\n",
       "      <td>2 STOREY WITH BASEMENT</td>\n",
       "      <td>RESIDENTIAL</td>\n",
       "      <td>2011</td>\n",
       "      <td>178.30</td>\n",
       "      <td>NO</td>\n",
       "      <td>Yes</td>\n",
       "      <td>Yes</td>\n",
       "      <td>448000</td>\n",
       "      <td>NaN</td>\n",
       "      <td>5916.0</td>\n",
       "      <td>NaN</td>\n",
       "      <td>10 AVENUE SW</td>\n",
       "      <td>T6X0T1</td>\n",
       "      <td>EDMONTON</td>\n",
       "      <td>5916 10 AVENUE SW EDMONTON AB T6X 0T1</td>\n",
       "      <td>WALKER</td>\n",
       "      <td>Yes</td>\n",
       "      <td>Yes</td>\n",
       "      <td>403.359 M2 / 4341.7 FT2 / .1 AC</td>\n",
       "      <td>1</td>\n",
       "      <td>2011, 2 STOREY WITH BASEMENT</td>\n",
       "      <td>NO</td>\n",
       "      <td>NO</td>\n",
       "      <td>RESIDENTIAL SOUTH</td>\n",
       "      <td>RES</td>\n",
       "      <td>31%</td>\n",
       "      <td>217.1 M2 / 2336.8 FT2</td>\n",
       "      <td>{\\type\\\": \\\"Polygon\\\",\\\"coordinates\\\":[[[37799...</td>\n",
       "      <td>1110</td>\n",
       "      <td>Assessment found</td>\n",
       "      <td>NaN</td>\n",
       "      <td>-113.431416</td>\n",
       "      <td>53.424549</td>\n",
       "      <td>458,000.00</td>\n",
       "    </tr>\n",
       "    <tr>\n",
       "      <th>10195783</th>\n",
       "      <td>100% SINGLE FAMILY DWELLING</td>\n",
       "      <td>NaN</td>\n",
       "      <td>2 STOREY WITH BASEMENT</td>\n",
       "      <td>RESIDENTIAL</td>\n",
       "      <td>2010</td>\n",
       "      <td>182.80</td>\n",
       "      <td>NO</td>\n",
       "      <td>Yes</td>\n",
       "      <td>Yes</td>\n",
       "      <td>447500</td>\n",
       "      <td>NaN</td>\n",
       "      <td>5920.0</td>\n",
       "      <td>NaN</td>\n",
       "      <td>10 AVENUE SW</td>\n",
       "      <td>T6X0T1</td>\n",
       "      <td>EDMONTON</td>\n",
       "      <td>5920 10 AVENUE SW EDMONTON AB T6X 0T1</td>\n",
       "      <td>WALKER</td>\n",
       "      <td>Yes</td>\n",
       "      <td>Yes</td>\n",
       "      <td>375.192 M2 / 4038.5 FT2 / .093 AC</td>\n",
       "      <td>1</td>\n",
       "      <td>2010, 2 STOREY WITH BASEMENT</td>\n",
       "      <td>NO</td>\n",
       "      <td>NO</td>\n",
       "      <td>RESIDENTIAL SOUTH</td>\n",
       "      <td>RES</td>\n",
       "      <td>33%</td>\n",
       "      <td>226 M2 / 2432.6 FT2</td>\n",
       "      <td>{\\type\\\": \\\"Polygon\\\",\\\"coordinates\\\":[[[37788...</td>\n",
       "      <td>1110</td>\n",
       "      <td>Assessment found</td>\n",
       "      <td>NaN</td>\n",
       "      <td>-113.431578</td>\n",
       "      <td>53.424548</td>\n",
       "      <td>468,000.00</td>\n",
       "    </tr>\n",
       "  </tbody>\n",
       "</table>\n",
       "</div>"
      ],
      "text/plain": [
       "                             landuse_description  ... Assessed Value 2016\n",
       "taxroll_number                                    ...                    \n",
       "10195787        100% TELEPHONE/TELEGRAPH - OTHER  ...          347,000.00\n",
       "10195786             100% SINGLE FAMILY DWELLING  ...          483,000.00\n",
       "10195785             100% SINGLE FAMILY DWELLING  ...          453,500.00\n",
       "10195784             100% SINGLE FAMILY DWELLING  ...          458,000.00\n",
       "10195783             100% SINGLE FAMILY DWELLING  ...          468,000.00\n",
       "\n",
       "[5 rows x 36 columns]"
      ]
     },
     "execution_count": 4,
     "metadata": {},
     "output_type": "execute_result"
    }
   ],
   "source": [
    "re_data_ext = re_data.set_index('taxroll_number').join(hist_2016) # The data now contains a column for the assessed value in 2016.\n",
    "re_data_ext.head()"
   ]
  },
  {
   "cell_type": "code",
   "execution_count": null,
   "metadata": {
    "id": "Vzz7xv_cp7_X"
   },
   "outputs": [],
   "source": [
    "Data = re_data_ext[['landuse_description', 'market_building_class', 'property_type', 'effective_build_year', 'net_area', 'basement_finished', 'has_garage', 'has_fireplace', 'assessed_value',\n",
    "                    'fully_taxable', 'fully_complete', 'building_count', 'walkout_basement', 'air_conditioning', 'valuation_group','display_type',\t'site_coverage', 'lon',\t'lat'\t,'Assessed Value 2016']]"
   ]
  },
  {
   "cell_type": "code",
   "execution_count": null,
   "metadata": {
    "colab": {
     "base_uri": "https://localhost:8080/"
    },
    "id": "83O7zzX4zMJj",
    "outputId": "1a6acec9-cf3c-442f-baca-70085ac9633f"
   },
   "outputs": [
    {
     "name": "stderr",
     "output_type": "stream",
     "text": [
      "/usr/local/lib/python3.7/dist-packages/ipykernel_launcher.py:1: SettingWithCopyWarning: \n",
      "A value is trying to be set on a copy of a slice from a DataFrame\n",
      "\n",
      "See the caveats in the documentation: https://pandas.pydata.org/pandas-docs/stable/user_guide/indexing.html#returning-a-view-versus-a-copy\n",
      "  \"\"\"Entry point for launching an IPython kernel.\n"
     ]
    }
   ],
   "source": [
    "Data.dropna(inplace=True)"
   ]
  },
  {
   "cell_type": "code",
   "execution_count": null,
   "metadata": {
    "colab": {
     "base_uri": "https://localhost:8080/"
    },
    "id": "Lo7bEoZswX_X",
    "outputId": "bc75ed6e-d460-4d0a-8e88-99d00d24f72e"
   },
   "outputs": [
    {
     "data": {
      "text/plain": [
       "50506"
      ]
     },
     "execution_count": 7,
     "metadata": {},
     "output_type": "execute_result"
    }
   ],
   "source": [
    "Data = Data.loc[(Data['property_type']=='RESIDENTIAL') & (Data['display_type']=='RES')]\n",
    "len(Data)"
   ]
  },
  {
   "cell_type": "code",
   "execution_count": null,
   "metadata": {
    "colab": {
     "base_uri": "https://localhost:8080/",
     "height": 379
    },
    "id": "hfvoP3C58flz",
    "outputId": "bdd35628-dcdd-4bb8-e97f-8e9f87477ba1"
   },
   "outputs": [
    {
     "data": {
      "text/html": [
       "<div>\n",
       "<style scoped>\n",
       "    .dataframe tbody tr th:only-of-type {\n",
       "        vertical-align: middle;\n",
       "    }\n",
       "\n",
       "    .dataframe tbody tr th {\n",
       "        vertical-align: top;\n",
       "    }\n",
       "\n",
       "    .dataframe thead th {\n",
       "        text-align: right;\n",
       "    }\n",
       "</style>\n",
       "<table border=\"1\" class=\"dataframe\">\n",
       "  <thead>\n",
       "    <tr style=\"text-align: right;\">\n",
       "      <th></th>\n",
       "      <th>landuse_description</th>\n",
       "      <th>market_building_class</th>\n",
       "      <th>effective_build_year</th>\n",
       "      <th>net_area</th>\n",
       "      <th>basement_finished</th>\n",
       "      <th>has_garage</th>\n",
       "      <th>has_fireplace</th>\n",
       "      <th>assessed_value</th>\n",
       "      <th>fully_taxable</th>\n",
       "      <th>fully_complete</th>\n",
       "      <th>building_count</th>\n",
       "      <th>walkout_basement</th>\n",
       "      <th>air_conditioning</th>\n",
       "      <th>valuation_group</th>\n",
       "      <th>site_coverage</th>\n",
       "      <th>lon</th>\n",
       "      <th>lat</th>\n",
       "      <th>Assessed Value 2016</th>\n",
       "    </tr>\n",
       "    <tr>\n",
       "      <th>taxroll_number</th>\n",
       "      <th></th>\n",
       "      <th></th>\n",
       "      <th></th>\n",
       "      <th></th>\n",
       "      <th></th>\n",
       "      <th></th>\n",
       "      <th></th>\n",
       "      <th></th>\n",
       "      <th></th>\n",
       "      <th></th>\n",
       "      <th></th>\n",
       "      <th></th>\n",
       "      <th></th>\n",
       "      <th></th>\n",
       "      <th></th>\n",
       "      <th></th>\n",
       "      <th></th>\n",
       "      <th></th>\n",
       "    </tr>\n",
       "  </thead>\n",
       "  <tbody>\n",
       "    <tr>\n",
       "      <th>10195786</th>\n",
       "      <td>100% SINGLE FAMILY DWELLING</td>\n",
       "      <td>2 STOREY WITH BASEMENT</td>\n",
       "      <td>2011</td>\n",
       "      <td>188.5</td>\n",
       "      <td>Yes</td>\n",
       "      <td>Yes</td>\n",
       "      <td>Yes</td>\n",
       "      <td>470500</td>\n",
       "      <td>Yes</td>\n",
       "      <td>Yes</td>\n",
       "      <td>1</td>\n",
       "      <td>NO</td>\n",
       "      <td>NO</td>\n",
       "      <td>RESIDENTIAL SOUTH</td>\n",
       "      <td>25%</td>\n",
       "      <td>-113.430993</td>\n",
       "      <td>53.424599</td>\n",
       "      <td>483,000.00</td>\n",
       "    </tr>\n",
       "    <tr>\n",
       "      <th>10195785</th>\n",
       "      <td>100% SINGLE FAMILY DWELLING</td>\n",
       "      <td>2 STOREY WITH BASEMENT</td>\n",
       "      <td>2011</td>\n",
       "      <td>178.0</td>\n",
       "      <td>NO</td>\n",
       "      <td>Yes</td>\n",
       "      <td>Yes</td>\n",
       "      <td>442500</td>\n",
       "      <td>Yes</td>\n",
       "      <td>Yes</td>\n",
       "      <td>1</td>\n",
       "      <td>NO</td>\n",
       "      <td>NO</td>\n",
       "      <td>RESIDENTIAL SOUTH</td>\n",
       "      <td>29%</td>\n",
       "      <td>-113.431231</td>\n",
       "      <td>53.424560</td>\n",
       "      <td>453,500.00</td>\n",
       "    </tr>\n",
       "    <tr>\n",
       "      <th>10195784</th>\n",
       "      <td>100% SINGLE FAMILY DWELLING</td>\n",
       "      <td>2 STOREY WITH BASEMENT</td>\n",
       "      <td>2011</td>\n",
       "      <td>178.3</td>\n",
       "      <td>NO</td>\n",
       "      <td>Yes</td>\n",
       "      <td>Yes</td>\n",
       "      <td>448000</td>\n",
       "      <td>Yes</td>\n",
       "      <td>Yes</td>\n",
       "      <td>1</td>\n",
       "      <td>NO</td>\n",
       "      <td>NO</td>\n",
       "      <td>RESIDENTIAL SOUTH</td>\n",
       "      <td>31%</td>\n",
       "      <td>-113.431416</td>\n",
       "      <td>53.424549</td>\n",
       "      <td>458,000.00</td>\n",
       "    </tr>\n",
       "    <tr>\n",
       "      <th>10195783</th>\n",
       "      <td>100% SINGLE FAMILY DWELLING</td>\n",
       "      <td>2 STOREY WITH BASEMENT</td>\n",
       "      <td>2010</td>\n",
       "      <td>182.8</td>\n",
       "      <td>NO</td>\n",
       "      <td>Yes</td>\n",
       "      <td>Yes</td>\n",
       "      <td>447500</td>\n",
       "      <td>Yes</td>\n",
       "      <td>Yes</td>\n",
       "      <td>1</td>\n",
       "      <td>NO</td>\n",
       "      <td>NO</td>\n",
       "      <td>RESIDENTIAL SOUTH</td>\n",
       "      <td>33%</td>\n",
       "      <td>-113.431578</td>\n",
       "      <td>53.424548</td>\n",
       "      <td>468,000.00</td>\n",
       "    </tr>\n",
       "    <tr>\n",
       "      <th>10195782</th>\n",
       "      <td>100% SINGLE FAMILY DWELLING</td>\n",
       "      <td>2 STOREY WITH BASEMENT</td>\n",
       "      <td>2010</td>\n",
       "      <td>208.3</td>\n",
       "      <td>NO</td>\n",
       "      <td>Yes</td>\n",
       "      <td>Yes</td>\n",
       "      <td>469500</td>\n",
       "      <td>Yes</td>\n",
       "      <td>Yes</td>\n",
       "      <td>1</td>\n",
       "      <td>NO</td>\n",
       "      <td>NO</td>\n",
       "      <td>RESIDENTIAL SOUTH</td>\n",
       "      <td>34%</td>\n",
       "      <td>-113.431742</td>\n",
       "      <td>53.424544</td>\n",
       "      <td>479,500.00</td>\n",
       "    </tr>\n",
       "  </tbody>\n",
       "</table>\n",
       "</div>"
      ],
      "text/plain": [
       "                        landuse_description  ... Assessed Value 2016\n",
       "taxroll_number                               ...                    \n",
       "10195786        100% SINGLE FAMILY DWELLING  ...          483,000.00\n",
       "10195785        100% SINGLE FAMILY DWELLING  ...          453,500.00\n",
       "10195784        100% SINGLE FAMILY DWELLING  ...          458,000.00\n",
       "10195783        100% SINGLE FAMILY DWELLING  ...          468,000.00\n",
       "10195782        100% SINGLE FAMILY DWELLING  ...          479,500.00\n",
       "\n",
       "[5 rows x 18 columns]"
      ]
     },
     "execution_count": 8,
     "metadata": {},
     "output_type": "execute_result"
    }
   ],
   "source": [
    "Data.drop(['property_type', 'display_type'], axis =1, inplace=True)\n",
    "Data.head()"
   ]
  },
  {
   "cell_type": "markdown",
   "metadata": {
    "id": "UkT8Cq9wfk1A"
   },
   "source": [
    "# Adding a column showing +1 for price increase and -1 otherwise"
   ]
  },
  {
   "cell_type": "code",
   "execution_count": null,
   "metadata": {
    "id": "sl9c_sJqdB73"
   },
   "outputs": [],
   "source": [
    "# Some type conversion.\n",
    "Data.loc[:, 'effective_build_year'] = Data['effective_build_year'].astype('float64')\n",
    "Data.loc[:, 'assessed_value'] = Data['assessed_value'].astype('float64')\n",
    "Data.loc[:, 'building_count'] = Data['building_count'].astype('float64')\n",
    "# The below line seems overly complicated but gets rid of the comma so that we can convert from type object to a float.\n",
    "Data.loc[:, 'Assessed Value 2016'] = Data.loc[:, 'Assessed Value 2016'].apply(lambda x: float(x.replace(',','')))\n",
    "Data.loc[:, 'site_coverage'] = Data.loc[:, 'site_coverage'].apply(lambda x: float(x.replace('%','')))\n"
   ]
  },
  {
   "cell_type": "code",
   "execution_count": null,
   "metadata": {
    "colab": {
     "base_uri": "https://localhost:8080/"
    },
    "id": "DuKcX2bgWFIi",
    "outputId": "2df96ad6-051c-4eb6-eea8-c05367a3f975"
   },
   "outputs": [
    {
     "name": "stderr",
     "output_type": "stream",
     "text": [
      "/usr/local/lib/python3.7/dist-packages/pandas/core/indexing.py:670: SettingWithCopyWarning: \n",
      "A value is trying to be set on a copy of a slice from a DataFrame\n",
      "\n",
      "See the caveats in the documentation: https://pandas.pydata.org/pandas-docs/stable/user_guide/indexing.html#returning-a-view-versus-a-copy\n",
      "  iloc._setitem_with_indexer(indexer, value)\n"
     ]
    }
   ],
   "source": [
    "Data['Price Increase']=0\n",
    "\n",
    "for i in range(len(Data)):\n",
    "  if Data['Assessed Value 2016'].iloc[i]> Data['assessed_value'].iloc[i]:\n",
    "    Data['Price Increase'].iloc[i] = 1\n",
    "  else:\n",
    "    Data['Price Increase'].iloc[i] = -1"
   ]
  },
  {
   "cell_type": "markdown",
   "metadata": {
    "id": "rLbHD9vcrQjn"
   },
   "source": [
    "# Deep Neural Network"
   ]
  },
  {
   "cell_type": "code",
   "execution_count": null,
   "metadata": {
    "id": "8RZMVVd0mBQA"
   },
   "outputs": [],
   "source": [
    "#Mapping categorical variables to numbers\n",
    "Data['air_conditioning']  = Data['air_conditioning'].map({'NO':0, 'Yes':1})\n",
    "Data['walkout_basement']  = Data['walkout_basement'].map({'NO':0, 'Yes':1})\n",
    "Data['fully_taxable']  = Data['fully_taxable'].map({'NO':0, 'Yes':1})\n",
    "\n",
    "Data['has_fireplace']  = Data['has_fireplace'].map({'NO':0, 'Yes':1})\n",
    "\n",
    "Data['has_garage']  = Data['has_garage'].map({'NO':0, 'Yes':1})\n",
    "\n",
    "Data['basement_finished']  = Data['basement_finished'].map({'NO':0, 'Yes':1})\n",
    "\n",
    "Data['fully_complete']  = Data['fully_complete'].map({'NO':0, 'Yes':1})\n",
    "\n",
    "Data['valuation_group']  = Data['valuation_group'].map({'RESIDENTIAL SOUTH':0, 'RESIDENTIAL NORTH':1, 'RESIDENTIAL WC':2,\n",
    "       'RESIDENTIAL RIVVAL':3, 'SPECIAL PURPOSE':4, 'LAND': 5, 'RESIDENTIAL LAND':6})"
   ]
  },
  {
   "cell_type": "code",
   "execution_count": null,
   "metadata": {
    "id": "sIwJpCVktKD1"
   },
   "outputs": [],
   "source": [
    "#Mapping non-number values\n",
    "Data['landuse_description']  = Data['landuse_description'].map({'100% SINGLE FAMILY DWELLING':0,\n",
    "                                                                '100% SEM-DETACHED DWELLING (DUPLEX)':1,\n",
    "                                                                '100% ONE FAMILY DWELLING WITH SUITE':2,\n",
    "                                                                '100% DUPLEX - SIDE BY SIDE':3,\n",
    "                                                                '100% SEMI DETACHED DWLG WITH SUITE (DUPLEX)':4,\n",
    "                                                                '100% SEMI-DETACHED DWELLING (FOUR-PLEX OR MORE)':5,\n",
    "                                                                '100% SEMI-DETACHED DWELLING (TRI-PLEX)':6,\n",
    "                                                                '100% DUPLEX SIDE BY SIDE LOWER LEVEL UNITS':7,\n",
    "                                                                '100% CO-OP/NON-PRO HOUSING DETACHUNIT':8,\n",
    "                                                                '100% HOUSE 3 OR LESS RENTAL SELF-CONTAINED UNITS':9,\n",
    "                                                                '100% THREE/FOUR FAMILY DWELLING-OTHER':10,\n",
    "                                                                '100% HOUSE 4 OR MORE RENTAL SELF-CONTAINED UNITS':11,\n",
    "                                                                '100% OTHER TWO FAMILY DWELLING':12,\n",
    "                                                                '100% TRI-PLEX':13,\n",
    "                                                                '100% HANDICAPPED HOME':14,\n",
    "                                                                '100% DERELICT RESIDENTIAL':15,\n",
    "                                                                '100% DUPLEX - UP AND DOWN':16,\n",
    "                                                                '100% DUPLEX UP AND DOWN LOWER LEVEL UNITS':17,\n",
    "                                                                '100% CONVENT/SEMINARY':18,\n",
    "                                                                '100% 2 OR MORE FAMILY UNITS ON 1 PCL':19,\n",
    "                                                                '55% SINGLE FAMILY DWELLING|45% COMM BUSINESS/SERVICE - OTHER':20,\n",
    "                                                                '75% SINGLE FAMILY DWELLING|25% ONE STOREY OFFICE':21,\n",
    "                                                                '71% SINGLE FAMILY DWELLING|29% COMM BUSINESS/SERVICE - OTHER':22,\n",
    "                                                                '100% ONE DWELLING UNIT ACCESSORY BLDG':23,\n",
    "                                                                '80% SINGLE FAMILY DWELLING|20% NONFRMLD W OTHER BLDGS':24,\n",
    "                                                                '67% SINGLE FAMILY DWELLING|33% NONFRMLD W OTHER BLDGS':25,\n",
    "                                                                '94% SINGLE FAMILY DWELLING|6% COMM BUSINESS/SERVICE - OTHER':26,\n",
    "                                                                '100% DUPLEX BACK TO BACK LOWER LEVEL UNITS':27\n",
    "                                                                })\n",
    "\n",
    "Data['market_building_class']  = Data['market_building_class'].map({'2 STOREY WITH BASEMENT':0,\n",
    "                                                                '2 STOREY DUPLEX WITH A BASEMENT':1,\n",
    "                                                                'BI-LEVEL':2,\n",
    "                                                                'BUNGALOW BASEMENTLESS':3,\n",
    "                                                                'BUNGALOW WITH BASEMENT':4,\n",
    "                                                                '2 1/2 STORY':5,\n",
    "                                                                'SPLIT LEVEL':6,\n",
    "                                                                '1 1/2 STOREY WITH BASEMENT':7,\n",
    "                                                                'DUPLEX BI-LEVEL':8,\n",
    "                                                                '1 STOREY DUPLEX WITH BASEMENT':9,\n",
    "                                                                '2 STOREY BASEMENTLESS':10,\n",
    "                                                                'SPLIT LEVEL WITH CRAWL':11,\n",
    "                                                                '2STOREY MULTI SIDE X SIDE WITH BASEMENT':12,\n",
    "                                                                '1 3/4 STOREY WITH BASEMENT':13,\n",
    "                                                                '1 3/4 STOREY WITHOUT A BASEMENT':14,\n",
    "                                                                '2 1/2 STORY BASEMENTLESS':15,\n",
    "                                                                '3 STOREY WITH BASEMENT':16,\n",
    "                                                                '3 STORY':17,\n",
    "                                                                '1 1/2 STOREY BASEMENTLESS':18,\n",
    "                                                                'MULTIPLE SIDE BY SIDE WITH BASEMENT':19,\n",
    "                                                                'DUPLEX SPLIT LEVEL':20,\n",
    "                                                                '2 STOREY FOUR-PLEX WITH BASEMENT':21,\n",
    "                                                                'CHURCH EDUCATIONAL WINGS':22,\n",
    "                                                                'MULTI SIDE X SIDE BI LEVEL':23,\n",
    "                                                                'CEDAR LOG 1 1/2 STOREY WITH BASEMENT':24,\n",
    "                                                                '2 STOREY DUPLEX BASEMENTLESS':25,\n",
    "                                                                '1 STOREY DUPLEX BASEMENTLESS':26,\n",
    "                                                                '1 STOREY FOUR-PLEX WITH BASEMENT':27,\n",
    "                                                                '3 STOREY BASEMENTLESS':28,\n",
    "                                                                'STORAGE GARAGE':29,\n",
    "                                                                'DUPLEX SPLIT LEVEL WITH CRAWL':30,\n",
    "                                                                'CEDAR LOG 1 STOREY WITH BASEMENT':31,\n",
    "                                                                'CEDAR LOG BILEVEL':32,\n",
    "                                                                '3 STOREY DUPLEX WITH BASEMENT':33,\n",
    "                                                                '3 STOREY MULTI SIDE X SIDE WITH BASEMENT':34,\n",
    "                                                                'ROWHOUSING':35,\n",
    "                                                                'MOBILE HOME SINGLE WITH BASEMENT':36,\n",
    "                                                                'MOBILE HOME SINGLE WIDE BASEMENTLESS':37\n",
    "                                                                })"
   ]
  },
  {
   "cell_type": "code",
   "execution_count": null,
   "metadata": {
    "id": "SpLCYLdvxxRk"
   },
   "outputs": [],
   "source": [
    "Data=Data[Data['assessed_value']!=0]"
   ]
  },
  {
   "cell_type": "code",
   "execution_count": null,
   "metadata": {
    "colab": {
     "base_uri": "https://localhost:8080/",
     "height": 509
    },
    "id": "_jrpjmGj_knN",
    "outputId": "c1114562-01d0-4292-ed8e-a123810ca7c3"
   },
   "outputs": [
    {
     "data": {
      "text/html": [
       "<div>\n",
       "<style scoped>\n",
       "    .dataframe tbody tr th:only-of-type {\n",
       "        vertical-align: middle;\n",
       "    }\n",
       "\n",
       "    .dataframe tbody tr th {\n",
       "        vertical-align: top;\n",
       "    }\n",
       "\n",
       "    .dataframe thead th {\n",
       "        text-align: right;\n",
       "    }\n",
       "</style>\n",
       "<table border=\"1\" class=\"dataframe\">\n",
       "  <thead>\n",
       "    <tr style=\"text-align: right;\">\n",
       "      <th></th>\n",
       "      <th>landuse_description</th>\n",
       "      <th>market_building_class</th>\n",
       "      <th>effective_build_year</th>\n",
       "      <th>net_area</th>\n",
       "      <th>basement_finished</th>\n",
       "      <th>has_garage</th>\n",
       "      <th>has_fireplace</th>\n",
       "      <th>assessed_value</th>\n",
       "      <th>fully_taxable</th>\n",
       "      <th>fully_complete</th>\n",
       "      <th>building_count</th>\n",
       "      <th>walkout_basement</th>\n",
       "      <th>air_conditioning</th>\n",
       "      <th>valuation_group</th>\n",
       "      <th>site_coverage</th>\n",
       "      <th>lon</th>\n",
       "      <th>lat</th>\n",
       "      <th>Assessed Value 2016</th>\n",
       "      <th>Price Increase</th>\n",
       "    </tr>\n",
       "    <tr>\n",
       "      <th>taxroll_number</th>\n",
       "      <th></th>\n",
       "      <th></th>\n",
       "      <th></th>\n",
       "      <th></th>\n",
       "      <th></th>\n",
       "      <th></th>\n",
       "      <th></th>\n",
       "      <th></th>\n",
       "      <th></th>\n",
       "      <th></th>\n",
       "      <th></th>\n",
       "      <th></th>\n",
       "      <th></th>\n",
       "      <th></th>\n",
       "      <th></th>\n",
       "      <th></th>\n",
       "      <th></th>\n",
       "      <th></th>\n",
       "      <th></th>\n",
       "    </tr>\n",
       "  </thead>\n",
       "  <tbody>\n",
       "    <tr>\n",
       "      <th>10195786</th>\n",
       "      <td>0.0</td>\n",
       "      <td>0.0</td>\n",
       "      <td>2011.0</td>\n",
       "      <td>188.50</td>\n",
       "      <td>1</td>\n",
       "      <td>1</td>\n",
       "      <td>1</td>\n",
       "      <td>470500.0</td>\n",
       "      <td>1</td>\n",
       "      <td>1</td>\n",
       "      <td>1.0</td>\n",
       "      <td>0</td>\n",
       "      <td>0</td>\n",
       "      <td>0</td>\n",
       "      <td>25.0</td>\n",
       "      <td>-113.430993</td>\n",
       "      <td>53.424599</td>\n",
       "      <td>483000.0</td>\n",
       "      <td>1</td>\n",
       "    </tr>\n",
       "    <tr>\n",
       "      <th>10195785</th>\n",
       "      <td>0.0</td>\n",
       "      <td>0.0</td>\n",
       "      <td>2011.0</td>\n",
       "      <td>178.00</td>\n",
       "      <td>0</td>\n",
       "      <td>1</td>\n",
       "      <td>1</td>\n",
       "      <td>442500.0</td>\n",
       "      <td>1</td>\n",
       "      <td>1</td>\n",
       "      <td>1.0</td>\n",
       "      <td>0</td>\n",
       "      <td>0</td>\n",
       "      <td>0</td>\n",
       "      <td>29.0</td>\n",
       "      <td>-113.431231</td>\n",
       "      <td>53.424560</td>\n",
       "      <td>453500.0</td>\n",
       "      <td>1</td>\n",
       "    </tr>\n",
       "    <tr>\n",
       "      <th>10195784</th>\n",
       "      <td>0.0</td>\n",
       "      <td>0.0</td>\n",
       "      <td>2011.0</td>\n",
       "      <td>178.30</td>\n",
       "      <td>0</td>\n",
       "      <td>1</td>\n",
       "      <td>1</td>\n",
       "      <td>448000.0</td>\n",
       "      <td>1</td>\n",
       "      <td>1</td>\n",
       "      <td>1.0</td>\n",
       "      <td>0</td>\n",
       "      <td>0</td>\n",
       "      <td>0</td>\n",
       "      <td>31.0</td>\n",
       "      <td>-113.431416</td>\n",
       "      <td>53.424549</td>\n",
       "      <td>458000.0</td>\n",
       "      <td>1</td>\n",
       "    </tr>\n",
       "    <tr>\n",
       "      <th>10195783</th>\n",
       "      <td>0.0</td>\n",
       "      <td>0.0</td>\n",
       "      <td>2010.0</td>\n",
       "      <td>182.80</td>\n",
       "      <td>0</td>\n",
       "      <td>1</td>\n",
       "      <td>1</td>\n",
       "      <td>447500.0</td>\n",
       "      <td>1</td>\n",
       "      <td>1</td>\n",
       "      <td>1.0</td>\n",
       "      <td>0</td>\n",
       "      <td>0</td>\n",
       "      <td>0</td>\n",
       "      <td>33.0</td>\n",
       "      <td>-113.431578</td>\n",
       "      <td>53.424548</td>\n",
       "      <td>468000.0</td>\n",
       "      <td>1</td>\n",
       "    </tr>\n",
       "    <tr>\n",
       "      <th>10195782</th>\n",
       "      <td>0.0</td>\n",
       "      <td>0.0</td>\n",
       "      <td>2010.0</td>\n",
       "      <td>208.30</td>\n",
       "      <td>0</td>\n",
       "      <td>1</td>\n",
       "      <td>1</td>\n",
       "      <td>469500.0</td>\n",
       "      <td>1</td>\n",
       "      <td>1</td>\n",
       "      <td>1.0</td>\n",
       "      <td>0</td>\n",
       "      <td>0</td>\n",
       "      <td>0</td>\n",
       "      <td>34.0</td>\n",
       "      <td>-113.431742</td>\n",
       "      <td>53.424544</td>\n",
       "      <td>479500.0</td>\n",
       "      <td>1</td>\n",
       "    </tr>\n",
       "    <tr>\n",
       "      <th>...</th>\n",
       "      <td>...</td>\n",
       "      <td>...</td>\n",
       "      <td>...</td>\n",
       "      <td>...</td>\n",
       "      <td>...</td>\n",
       "      <td>...</td>\n",
       "      <td>...</td>\n",
       "      <td>...</td>\n",
       "      <td>...</td>\n",
       "      <td>...</td>\n",
       "      <td>...</td>\n",
       "      <td>...</td>\n",
       "      <td>...</td>\n",
       "      <td>...</td>\n",
       "      <td>...</td>\n",
       "      <td>...</td>\n",
       "      <td>...</td>\n",
       "      <td>...</td>\n",
       "      <td>...</td>\n",
       "    </tr>\n",
       "    <tr>\n",
       "      <th>9952730</th>\n",
       "      <td>0.0</td>\n",
       "      <td>4.0</td>\n",
       "      <td>2001.0</td>\n",
       "      <td>153.60</td>\n",
       "      <td>1</td>\n",
       "      <td>1</td>\n",
       "      <td>1</td>\n",
       "      <td>772000.0</td>\n",
       "      <td>1</td>\n",
       "      <td>1</td>\n",
       "      <td>1.0</td>\n",
       "      <td>0</td>\n",
       "      <td>0</td>\n",
       "      <td>1</td>\n",
       "      <td>2.0</td>\n",
       "      <td>-113.323203</td>\n",
       "      <td>53.679244</td>\n",
       "      <td>727000.0</td>\n",
       "      <td>-1</td>\n",
       "    </tr>\n",
       "    <tr>\n",
       "      <th>9952732</th>\n",
       "      <td>0.0</td>\n",
       "      <td>4.0</td>\n",
       "      <td>1998.0</td>\n",
       "      <td>169.60</td>\n",
       "      <td>1</td>\n",
       "      <td>1</td>\n",
       "      <td>1</td>\n",
       "      <td>788500.0</td>\n",
       "      <td>1</td>\n",
       "      <td>1</td>\n",
       "      <td>1.0</td>\n",
       "      <td>0</td>\n",
       "      <td>0</td>\n",
       "      <td>1</td>\n",
       "      <td>2.0</td>\n",
       "      <td>-113.322486</td>\n",
       "      <td>53.679981</td>\n",
       "      <td>730000.0</td>\n",
       "      <td>-1</td>\n",
       "    </tr>\n",
       "    <tr>\n",
       "      <th>9952733</th>\n",
       "      <td>0.0</td>\n",
       "      <td>0.0</td>\n",
       "      <td>1998.0</td>\n",
       "      <td>253.60</td>\n",
       "      <td>0</td>\n",
       "      <td>1</td>\n",
       "      <td>1</td>\n",
       "      <td>752000.0</td>\n",
       "      <td>1</td>\n",
       "      <td>1</td>\n",
       "      <td>1.0</td>\n",
       "      <td>0</td>\n",
       "      <td>0</td>\n",
       "      <td>1</td>\n",
       "      <td>2.0</td>\n",
       "      <td>-113.321340</td>\n",
       "      <td>53.680806</td>\n",
       "      <td>705000.0</td>\n",
       "      <td>-1</td>\n",
       "    </tr>\n",
       "    <tr>\n",
       "      <th>9952734</th>\n",
       "      <td>0.0</td>\n",
       "      <td>0.0</td>\n",
       "      <td>2003.0</td>\n",
       "      <td>221.07</td>\n",
       "      <td>0</td>\n",
       "      <td>1</td>\n",
       "      <td>1</td>\n",
       "      <td>731500.0</td>\n",
       "      <td>1</td>\n",
       "      <td>1</td>\n",
       "      <td>1.0</td>\n",
       "      <td>0</td>\n",
       "      <td>0</td>\n",
       "      <td>1</td>\n",
       "      <td>2.0</td>\n",
       "      <td>-113.320999</td>\n",
       "      <td>53.681473</td>\n",
       "      <td>669000.0</td>\n",
       "      <td>-1</td>\n",
       "    </tr>\n",
       "    <tr>\n",
       "      <th>10228415</th>\n",
       "      <td>0.0</td>\n",
       "      <td>4.0</td>\n",
       "      <td>2007.0</td>\n",
       "      <td>156.30</td>\n",
       "      <td>0</td>\n",
       "      <td>1</td>\n",
       "      <td>0</td>\n",
       "      <td>712500.0</td>\n",
       "      <td>1</td>\n",
       "      <td>1</td>\n",
       "      <td>1.0</td>\n",
       "      <td>0</td>\n",
       "      <td>0</td>\n",
       "      <td>3</td>\n",
       "      <td>4.0</td>\n",
       "      <td>-113.669986</td>\n",
       "      <td>53.431470</td>\n",
       "      <td>740000.0</td>\n",
       "      <td>1</td>\n",
       "    </tr>\n",
       "  </tbody>\n",
       "</table>\n",
       "<p>49728 rows × 19 columns</p>\n",
       "</div>"
      ],
      "text/plain": [
       "                landuse_description  ...  Price Increase\n",
       "taxroll_number                       ...                \n",
       "10195786                        0.0  ...               1\n",
       "10195785                        0.0  ...               1\n",
       "10195784                        0.0  ...               1\n",
       "10195783                        0.0  ...               1\n",
       "10195782                        0.0  ...               1\n",
       "...                             ...  ...             ...\n",
       "9952730                         0.0  ...              -1\n",
       "9952732                         0.0  ...              -1\n",
       "9952733                         0.0  ...              -1\n",
       "9952734                         0.0  ...              -1\n",
       "10228415                        0.0  ...               1\n",
       "\n",
       "[49728 rows x 19 columns]"
      ]
     },
     "execution_count": 15,
     "metadata": {},
     "output_type": "execute_result"
    }
   ],
   "source": [
    "# removing outliers\n",
    "z= np.abs(stats.zscore(Data['assessed_value'])) # Utilizing zscore to remove outliers\n",
    "filtered_df = (z < 3) # Removing values with zscore greater than 3 standard deviation\n",
    "Data = Data[filtered_df] # Filtered data set with removed outliers\n",
    "Data"
   ]
  },
  {
   "cell_type": "code",
   "execution_count": null,
   "metadata": {
    "colab": {
     "base_uri": "https://localhost:8080/",
     "height": 968
    },
    "id": "lQZgA91a13oq",
    "outputId": "313ae277-7917-465b-f16a-a5e992534fd2"
   },
   "outputs": [
    {
     "data": {
      "image/png": "[encoded data removed]",
      "text/plain": [
       "<Figure size 1080x1080 with 2 Axes>"
      ]
     },
     "metadata": {
      "needs_background": "light"
     },
     "output_type": "display_data"
    }
   ],
   "source": [
    "#Using Pearson Correlation between featurs and output\n",
    "plt.figure(figsize=(15,15))\n",
    "cor = Data.corr()\n",
    "sns.heatmap(cor, annot=True, cmap=plt.cm.CMRmap_r)\n",
    "plt.show()"
   ]
  },
  {
   "cell_type": "code",
   "execution_count": null,
   "metadata": {
    "colab": {
     "base_uri": "https://localhost:8080/"
    },
    "id": "N8597cF4vExS",
    "outputId": "488df19a-230b-4cc7-8b1f-17c3d90aea1a"
   },
   "outputs": [
    {
     "data": {
      "text/plain": [
       "49728"
      ]
     },
     "execution_count": 17,
     "metadata": {},
     "output_type": "execute_result"
    }
   ],
   "source": [
    "len(Data)"
   ]
  },
  {
   "cell_type": "code",
   "execution_count": null,
   "metadata": {
    "id": "RgMUBu2vu8MV"
   },
   "outputs": [],
   "source": [
    "y = Data.loc[:,'assessed_value'].copy()"
   ]
  },
  {
   "cell_type": "code",
   "execution_count": null,
   "metadata": {
    "id": "PEC3lt-7u2MV"
   },
   "outputs": [],
   "source": [
    "scaler = MinMaxScaler()\n",
    "numerical = Data.select_dtypes(include='float64').columns\n",
    "Data.loc[:,numerical]=scaler.fit_transform(Data.loc[:,numerical])"
   ]
  },
  {
   "cell_type": "code",
   "execution_count": null,
   "metadata": {
    "id": "nJ1dMWDqzgoh"
   },
   "outputs": [],
   "source": [
    "Data['assessed_value']=y\n",
    "Data.to_csv('House_Data.csv')"
   ]
  },
  {
   "cell_type": "code",
   "execution_count": null,
   "metadata": {
    "id": "3S1q9Gnb0dZr"
   },
   "outputs": [],
   "source": [
    "X_scaled = Data.drop(['assessed_value', 'Assessed Value 2016', 'Price Increase', 'fully_taxable'], axis =1)\n",
    "#'assessed_value', 'Assessed Value 2016', 'Price Increase', 'has_fireplace', 'fully_taxable'\n",
    "#'assessed_value', 'Assessed Value 2016', 'Price Increase', 'fully_taxable', 'basement_finished', 'lon', 'lat'\n",
    "#y = Data.loc[:,'assessed_value']\n",
    "\n",
    "# Split the data set into training and testing\n",
    "X_train, X_test, y_train, y_test = train_test_split(\n",
    "    X_scaled, y, test_size=0.1, random_state=2)"
   ]
  },
  {
   "cell_type": "code",
   "execution_count": null,
   "metadata": {
    "id": "dRxiGNuy9aTe"
   },
   "outputs": [],
   "source": [
    "class Datasetload(Dataset):\n",
    "\n",
    "    def __init__(self, x, y):\n",
    "        self.df = pd.concat([y, x], axis=1)\n",
    "        self.data = self.df.to_numpy()\n",
    "        self.x , self.y = (torch.from_numpy(self.data[:,1:]),\n",
    "                           torch.from_numpy(self.data[:,0]))\n",
    "    def __len__(self):\n",
    "        return len(self.data)\n",
    "\n",
    "    def __getitem__(self, index):\n",
    "\n",
    "        return self.x[index, :], self.y[index]"
   ]
  },
  {
   "cell_type": "code",
   "execution_count": null,
   "metadata": {
    "id": "w6F4wxuB_Tqo"
   },
   "outputs": [],
   "source": [
    "train_dataset = Datasetload(X_train, y_train)\n",
    "train_loader = DataLoader(train_dataset, batch_size=128, shuffle=True)"
   ]
  },
  {
   "cell_type": "code",
   "execution_count": null,
   "metadata": {
    "id": "6hTcdWtLf-ih"
   },
   "outputs": [],
   "source": [
    "if torch.cuda.is_available():\n",
    "    device = torch.device('cuda')\n",
    "else:\n",
    "    device = torch.device('cpu')\n",
    "\n",
    "class Model(nn.Module):\n",
    "    def __init__(self, input_dim):\n",
    "        super(Model, self).__init__()\n",
    "        self.layer1 = nn.Linear(input_dim, 32)\n",
    "        self.layer2 = nn.Linear(32, 64)\n",
    "        self.layer3 = nn.Linear(64, 1)\n",
    "\n",
    "    def forward(self, x):\n",
    "        x = F.relu(self.layer1(x))\n",
    "        x = F.relu(self.layer2(x))\n",
    "        x = self.layer3(x)\n",
    "        return x\n",
    "\n",
    "\n",
    "\n",
    "model = Model(input_dim=15).to(device)\n",
    "optimizer = torch.optim.Adam(model.parameters(), lr=0.1)\n",
    "loss_fn = nn.MSELoss()"
   ]
  },
  {
   "cell_type": "code",
   "execution_count": null,
   "metadata": {
    "id": "0a8qX91zuQXc"
   },
   "outputs": [],
   "source": [
    "#X_train = Variable(torch.tensor(X_train.to_numpy())).float().to(device)\n",
    "#y_train = Variable(torch.tensor(y_train.to_numpy())).long().to(device)\n",
    "X_test  = Variable(torch.tensor(X_test.to_numpy())).float().to(device)\n",
    "y_test  = Variable(torch.tensor(y_test.to_numpy())).long().to(device)"
   ]
  },
  {
   "cell_type": "markdown",
   "metadata": {},
   "source": [
    "# 5-Fold Cross-Validation"
   ]
  },
  {
   "cell_type": "code",
   "execution_count": null,
   "metadata": {
    "id": "pIDP9PE1GpEg"
   },
   "outputs": [],
   "source": [
    "kfold = KFold(n_splits=5, shuffle=True, random_state=10)\n",
    "\n",
    "EPOCHS = 250\n",
    "\n",
    "test_MSE_k_all = []\n",
    "test_MAPE_k_all = []\n",
    "\n",
    "for train_index, test_index in kfold.split(X_train):\n",
    "  Xi_train_kfold, Xi_test_kfold = X_train.iloc[train_index,:], X_train.iloc[test_index,:]\n",
    "\n",
    "  yi_train_kfold, yi_test_kfold = y_train.iloc[train_index], y_train.iloc[test_index]\n",
    "\n",
    "  train_dataset_kfold = Datasetload(Xi_train_kfold, yi_train_kfold)\n",
    "  train_loader_kfold = DataLoader(train_dataset_kfold, batch_size=128, shuffle=True)\n",
    "\n",
    "  Xi_test_kfold  = Variable(torch.tensor(Xi_test_kfold.to_numpy())).float().to(device)\n",
    "  yi_test_kfold  = Variable(torch.tensor(yi_test_kfold.to_numpy())).long().to(device)\n",
    "\n",
    "\n",
    "  for epoch in range(EPOCHS):\n",
    "    for data in train_loader_kfold:\n",
    "      My_X, My_y=data\n",
    "\n",
    "      optimizer.zero_grad()\n",
    "      y_pred = model(My_X.view(-1, 15).float())\n",
    "      new_shape = (len(y_pred), 1)\n",
    "      loss = loss_fn(y_pred.view(-1), My_y.view(-1).float()) #loss(input, target)\n",
    "      loss.backward()\n",
    "      optimizer.step()\n",
    "\n",
    "\n",
    "  y_test_pred_K = model(Xi_test_kfold)\n",
    "  test_MSE_k = loss_fn(y_test_pred_K.view(-1), yi_test_kfold.view(-1))\n",
    "  test_MSE_k_all.append(test_MSE_k)\n",
    "\n",
    "  MAPE_test=sklearn.metrics.mean_absolute_percentage_error(yi_test_kfold.view(-1).cpu().data.numpy(), y_test_pred_K.view(-1).cpu().data.numpy())\n",
    "  test_MAPE_k_all.append(MAPE_test)\n"
   ]
  },
  {
   "cell_type": "code",
   "execution_count": null,
   "metadata": {
    "id": "1re16VqUaiB3"
   },
   "outputs": [],
   "source": [
    "kfold = KFold(n_splits=5, shuffle=True, random_state=10)\n",
    "\n",
    "EPOCHS = 250\n",
    "\n",
    "test_MSE_k_all = []\n",
    "test_MAPE_k_all = []\n",
    "\n",
    "best_model = None\n",
    "best_avg_MSE = np.inf\n",
    "\n",
    "for train_index, test_index in kfold.split(X_train):\n",
    "    Xi_train_kfold, Xi_test_kfold = X_train.iloc[train_index,:], X_train.iloc[test_index,:]\n",
    "    yi_train_kfold, yi_test_kfold = y_train.iloc[train_index], y_train.iloc[test_index]\n",
    "\n",
    "    train_dataset_kfold = Datasetload(Xi_train_kfold, yi_train_kfold)\n",
    "    train_loader_kfold = DataLoader(train_dataset_kfold, batch_size=128, shuffle=True)\n",
    "\n",
    "    Xi_test_kfold = Variable(torch.tensor(Xi_test_kfold.to_numpy())).float().to(device)\n",
    "    yi_test_kfold = Variable(torch.tensor(yi_test_kfold.to_numpy())).long().to(device)\n",
    "\n",
    "    for epoch in range(EPOCHS):\n",
    "        for data in train_loader_kfold:\n",
    "            My_X, My_y = data\n",
    "\n",
    "            optimizer.zero_grad()\n",
    "            y_pred = model(My_X.view(-1, 15).float())\n",
    "            new_shape = (len(y_pred), 1)\n",
    "            loss = loss_fn(y_pred.view(-1), My_y.view(-1).float()) #loss(input, target)\n",
    "            loss.backward()\n",
    "            optimizer.step()\n",
    "\n",
    "    y_test_pred_K = model(Xi_test_kfold)\n",
    "    test_MSE_k = loss_fn(y_test_pred_K.view(-1), yi_test_kfold.view(-1))\n",
    "    test_MSE_k_all.append(test_MSE_k)\n",
    "\n",
    "    MAPE_test = sklearn.metrics.mean_absolute_percentage_error(yi_test_kfold.view(-1).cpu().data.numpy(), y_test_pred_K.view(-1).cpu().data.numpy())\n",
    "    test_MAPE_k_all.append(MAPE_test)\n",
    "\n",
    "    if test_MSE_k < best_avg_MSE:\n",
    "        best_model = model.state_dict()\n",
    "        best_avg_MSE = test_MSE_k\n",
    "\n",
    "# Use the best model based on the lowest average MSE\n",
    "model.load_state_dict(best_model)\n",
    "\n",
    "# Access the best MSE value and index\n",
    "best_MSE = min(test_MSE_k_all)\n",
    "best_MSE_index = test_MSE_k_all.index(best_MSE)\n"
   ]
  },
  {
   "cell_type": "code",
   "execution_count": null,
   "metadata": {
    "colab": {
     "base_uri": "https://localhost:8080/"
    },
    "id": "vRvkuTUvPNFi",
    "outputId": "42a14629-db4e-4d32-e213-d69ad170b464"
   },
   "outputs": [
    {
     "data": {
      "text/plain": [
       "[tensor(3.4847e+09, grad_fn=<MseLossBackward0>),\n",
       " tensor(3.3626e+09, grad_fn=<MseLossBackward0>),\n",
       " tensor(3.5548e+09, grad_fn=<MseLossBackward0>),\n",
       " tensor(2.8268e+09, grad_fn=<MseLossBackward0>),\n",
       " tensor(2.6368e+09, grad_fn=<MseLossBackward0>)]"
      ]
     },
     "execution_count": 24,
     "metadata": {},
     "output_type": "execute_result"
    }
   ],
   "source": [
    "test_MSE_k_all"
   ]
  },
  {
   "cell_type": "code",
   "execution_count": null,
   "metadata": {
    "colab": {
     "base_uri": "https://localhost:8080/"
    },
    "id": "F0b2_-E3VHaE",
    "outputId": "912fcf6e-de18-430b-a006-ad1309e15e91"
   },
   "outputs": [
    {
     "data": {
      "text/plain": [
       "tensor(3.1731e+09, grad_fn=<MeanBackward0>)"
      ]
     },
     "execution_count": 25,
     "metadata": {},
     "output_type": "execute_result"
    }
   ],
   "source": [
    "torch.mean(torch.stack(test_MSE_k_all))"
   ]
  },
  {
   "cell_type": "code",
   "execution_count": null,
   "metadata": {
    "colab": {
     "base_uri": "https://localhost:8080/"
    },
    "id": "1MOJzwoC7HQE",
    "outputId": "64ec7e3b-819a-4ec0-d31e-c42b008bd7dd"
   },
   "outputs": [
    {
     "data": {
      "text/plain": [
       "0.06470853609836111"
      ]
     },
     "execution_count": 26,
     "metadata": {},
     "output_type": "execute_result"
    }
   ],
   "source": [
    "np.mean(test_MAPE_k_all)"
   ]
  },
  {
   "cell_type": "code",
   "execution_count": null,
   "metadata": {
    "id": "fZs1ZU_80JDF"
   },
   "outputs": [],
   "source": [
    "EPOCHS = 250\n",
    "tot_loss = []\n",
    "for epoch in range(EPOCHS):\n",
    "  for data in train_loader:\n",
    "    My_X, My_y=data\n",
    "    #print(My_X.shape)\n",
    "    #print(My_y.view(8,1).shape)\n",
    "\n",
    "    optimizer.zero_grad()\n",
    "    y_pred = model(My_X.view(-1, 15).float())\n",
    "    new_shape = (len(y_pred), 1)\n",
    "    #print(y_pred.shape)\n",
    "    loss = loss_fn(y_pred, My_y.view(new_shape).float()) #loss(input, target)\n",
    "    loss.backward()\n",
    "    optimizer.step()\n",
    "  tot_pred = model(Variable(torch.tensor(X_train.to_numpy())).float().to(device))\n",
    "  tot_loss.append(loss_fn(tot_pred.view(-1), Variable(torch.tensor(y_train.to_numpy())).long().to(device).view(-1).float()).cpu().data.numpy())"
   ]
  },
  {
   "cell_type": "code",
   "execution_count": null,
   "metadata": {
    "colab": {
     "base_uri": "https://localhost:8080/"
    },
    "id": "_MbFtZMTOr29",
    "outputId": "a49e1f6b-de21-4bc3-aad5-97ff009baefb"
   },
   "outputs": [
    {
     "name": "stdout",
     "output_type": "stream",
     "text": [
      "tensor(3.6787e+09, grad_fn=<MseLossBackward0>)\n"
     ]
    }
   ],
   "source": [
    "y_test_pred = model(X_test)\n",
    "new_shape = (len(y_test_pred), 1)\n",
    "test_MSE = loss_fn(y_test_pred, y_test.view(new_shape))\n",
    "print(test_MSE)"
   ]
  },
  {
   "cell_type": "code",
   "execution_count": null,
   "metadata": {
    "colab": {
     "base_uri": "https://localhost:8080/"
    },
    "id": "2ptFS9c0NtAG",
    "outputId": "c38cfca4-fc0e-4e9b-c2de-66a53ad7fdfe"
   },
   "outputs": [
    {
     "data": {
      "text/plain": [
       "0.07968742840398385"
      ]
     },
     "execution_count": 25,
     "metadata": {},
     "output_type": "execute_result"
    }
   ],
   "source": [
    "MAPE_test=sklearn.metrics.mean_absolute_percentage_error(y_test.view(-1).cpu().data.numpy(), y_test_pred.view(-1).cpu().data.numpy())\n",
    "MAPE_test"
   ]
  },
  {
   "cell_type": "code",
   "execution_count": null,
   "metadata": {
    "colab": {
     "base_uri": "https://localhost:8080/"
    },
    "id": "R8c_k8L_dCUK",
    "outputId": "04b97d4f-8794-4d18-eeeb-96b3b462321a"
   },
   "outputs": [
    {
     "name": "stdout",
     "output_type": "stream",
     "text": [
      "tensor(3.7738e+09, grad_fn=<MseLossBackward0>)\n"
     ]
    }
   ],
   "source": [
    "y_train_pred = model(Variable(torch.tensor(X_train.to_numpy())).float().to(device))\n",
    "\n",
    "train_MSE = loss_fn(y_train_pred.view(-1), Variable(torch.tensor(y_train.to_numpy())).long().to(device).view(-1))\n",
    "print(train_MSE)"
   ]
  },
  {
   "cell_type": "code",
   "execution_count": null,
   "metadata": {
    "colab": {
     "base_uri": "https://localhost:8080/"
    },
    "id": "pDzJ4WF-oW5d",
    "outputId": "8c5996b3-e7e3-4212-b3b7-ffa42ad64498"
   },
   "outputs": [
    {
     "data": {
      "text/plain": [
       "0.0788937699857117"
      ]
     },
     "execution_count": 28,
     "metadata": {},
     "output_type": "execute_result"
    }
   ],
   "source": [
    "MAPE_train=sklearn.metrics.mean_absolute_percentage_error(y_train, y_train_pred.view(-1).cpu().data.numpy())\n",
    "MAPE_train"
   ]
  },
  {
   "cell_type": "code",
   "execution_count": null,
   "metadata": {
    "id": "xEwqgHVA1E6e"
   },
   "outputs": [],
   "source": [
    "torch.save(model, \"model_obj1_1002.pt\")\n",
    "#model = torch.load(\"model_obj1_1002.pt\")"
   ]
  },
  {
   "cell_type": "code",
   "execution_count": null,
   "metadata": {
    "colab": {
     "base_uri": "https://localhost:8080/",
     "height": 312
    },
    "id": "ACGGqcjeJS6P",
    "outputId": "96fc19bb-cee6-43f8-fb0a-67f8009ca83e"
   },
   "outputs": [
    {
     "data": {
      "text/plain": [
       "Text(0, 0.5, 'Mean squared error')"
      ]
     },
     "execution_count": 29,
     "metadata": {},
     "output_type": "execute_result"
    },
    {
     "data": {
      "image/png": "[encoded data removed]",
      "text/plain": [
       "<Figure size 432x288 with 1 Axes>"
      ]
     },
     "metadata": {
      "needs_background": "light"
     },
     "output_type": "display_data"
    }
   ],
   "source": [
    "plt.plot(tot_loss, 'b')\n",
    "plt.title('Training loss')\n",
    "plt.xlabel('Epoch')\n",
    "plt.ylabel('Mean squared error')"
   ]
  },
  {
   "cell_type": "code",
   "execution_count": null,
   "metadata": {
    "colab": {
     "base_uri": "https://localhost:8080/",
     "height": 308
    },
    "id": "QKaqrkrnQEKY",
    "outputId": "0f65dc2e-f851-469d-f596-7e6a59bd6b14"
   },
   "outputs": [
    {
     "data": {
      "text/plain": [
       "Text(0, 0.5, '2015 House price')"
      ]
     },
     "execution_count": 31,
     "metadata": {},
     "output_type": "execute_result"
    },
    {
     "data": {
      "image/png": "[encoded data removed]",
      "text/plain": [
       "<Figure size 432x288 with 1 Axes>"
      ]
     },
     "metadata": {
      "needs_background": "light"
     },
     "output_type": "display_data"
    }
   ],
   "source": [
    "p1, = plt.plot(y_test.view(-1).cpu().data.numpy()[1:100], 'b')\n",
    "p2, = plt.plot(y_test_pred.cpu().data.numpy()[1:100], 'r')\n",
    "axes = plt.gca()\n",
    "axes.set_ylim([0,1.8e6])\n",
    "plt.legend([p1, p2],[\"Actual price\",\"Predicted price\"], loc=2)\n",
    "\n",
    "plt.xlabel('Data points')\n",
    "plt.ylabel('2015 House price')"
   ]
  },
  {
   "cell_type": "code",
   "execution_count": null,
   "metadata": {
    "id": "rSQrkxkBG82K"
   },
   "outputs": [],
   "source": [
    "Data['Price Increase']  = Data['Price Increase'].map({1:1, -1:0})\n",
    "X_obj2 = Data.drop(['Price Increase', 'fully_taxable','Assessed Value 2016','assessed_value'], axis =1)\n",
    "#,\t'basement_finished',\t'has_garage',\t'walkout_basement', 'air_conditioning',\t'valuation_group',\t'site_coverage', 'assessed_value'\n",
    "y_obj2 = Data.loc[:,'Price Increase'].copy()\n",
    "\n",
    "X_train_obj2, X_test_obj2, y_train_obj2, y_test_obj2 = train_test_split(\n",
    "    X_obj2, y_obj2, test_size=0.1, random_state=10)\n",
    "\n",
    "train_dataset_obj2 = Datasetload(X_train_obj2, y_train_obj2)\n",
    "train_loader_obj2 = DataLoader(train_dataset_obj2, batch_size=128, shuffle=True)\n",
    "\n",
    "X_test_obj2 = Variable(torch.tensor(X_test_obj2.to_numpy())).float().to(device)\n",
    "y_test_obj2 = Variable(torch.tensor(y_test_obj2.to_numpy())).long().to(device)\n",
    "\n",
    "\n",
    "if torch.cuda.is_available():\n",
    "    device = torch.device('cuda')\n",
    "else:\n",
    "    device = torch.device('cpu')\n",
    "\n",
    "class Model2(nn.Module):\n",
    "    def __init__(self, input_dim):\n",
    "        super(Model2, self).__init__()\n",
    "        self.layer1 = nn.Linear(input_dim, 100)\n",
    "        self.layer2 = nn.Linear(100, 32)\n",
    "        self.layer3 = nn.Linear(32, 1)\n",
    "\n",
    "    def forward(self, x):\n",
    "        x = F.relu(self.layer1(x))\n",
    "        x = F.relu(self.layer2(x))\n",
    "        x = torch.sigmoid(self.layer3(x))\n",
    "        return x\n",
    "\n",
    "\n",
    "\n",
    "model2 = Model2(input_dim=15).to(device)\n",
    "optimizer2 = torch.optim.Adam(model2.parameters(), lr=0.01)\n",
    "loss_fn2 = nn.BCELoss()"
   ]
  },
  {
   "cell_type": "code",
   "execution_count": null,
   "metadata": {
    "id": "iH0O27bZLHy8"
   },
   "outputs": [],
   "source": [
    "EPOCHS = 250\n",
    "tot_loss2 = []\n",
    "accuracy_train = []\n",
    "accuracy_test = []\n",
    "\n",
    "All_loss = []\n",
    "\n",
    "for epoch in range(EPOCHS):\n",
    "  for data in train_loader_obj2:\n",
    "    My_X, My_y = data\n",
    "    optimizer2.zero_grad()\n",
    "    y_pred = model2(My_X.view(-1, 15).float())\n",
    "    new_shape = (len(y_pred), 1)\n",
    "    loss = loss_fn2(y_pred.view(-1), My_y.view(-1).float()) #loss(input, target)\n",
    "    All_loss.append(loss)\n",
    "\n",
    "    loss.backward()\n",
    "    optimizer2.step()\n",
    "    tot_loss2.append(loss.cpu().data.numpy())\n",
    "\n",
    "\n",
    "  with torch.no_grad():\n",
    "    predicted = model2(Variable(torch.tensor(X_train_obj2.to_numpy())).float().to(device))\n",
    "      #acc = np.mean(([predicted.reshape(-1).round() == My_y.reshape(-1)]))\n",
    "    acc = np.mean((predicted.view(-1).round() == Variable(torch.tensor(y_train_obj2.to_numpy())).float().to(device).view(-1)).data.numpy())\n",
    "  accuracy_train.append(acc)\n",
    "\n"
   ]
  },
  {
   "cell_type": "code",
   "execution_count": null,
   "metadata": {
    "colab": {
     "base_uri": "https://localhost:8080/",
     "height": 282
    },
    "id": "8hvscW4VV3zb",
    "outputId": "004d3845-870e-42db-f9b5-bb15c303a655"
   },
   "outputs": [
    {
     "data": {
      "text/plain": [
       "[<matplotlib.lines.Line2D at 0x7f95187f47d0>]"
      ]
     },
     "execution_count": 26,
     "metadata": {},
     "output_type": "execute_result"
    },
    {
     "data": {
      "image/png": "[encoded data removed]",
      "text/plain": [
       "<Figure size 432x288 with 1 Axes>"
      ]
     },
     "metadata": {
      "needs_background": "light"
     },
     "output_type": "display_data"
    }
   ],
   "source": [
    "plt.plot(All_loss)"
   ]
  },
  {
   "cell_type": "code",
   "execution_count": null,
   "metadata": {
    "colab": {
     "base_uri": "https://localhost:8080/",
     "height": 312
    },
    "id": "0KXMhA8XDAgm",
    "outputId": "7915554e-ad16-45d0-b10d-3132e4d8cec0"
   },
   "outputs": [
    {
     "data": {
      "text/plain": [
       "Text(0, 0.5, 'Accuracy')"
      ]
     },
     "execution_count": 24,
     "metadata": {},
     "output_type": "execute_result"
    },
    {
     "data": {
      "image/png": "[encoded data removed]",
      "text/plain": [
       "<Figure size 432x288 with 1 Axes>"
      ]
     },
     "metadata": {
      "needs_background": "light"
     },
     "output_type": "display_data"
    }
   ],
   "source": [
    "plt.plot(accuracy_train, 'b')\n",
    "plt.title('Training accuracy')\n",
    "plt.xlabel('Epoch')\n",
    "plt.ylabel('Accuracy')"
   ]
  },
  {
   "cell_type": "code",
   "execution_count": null,
   "metadata": {
    "colab": {
     "base_uri": "https://localhost:8080/"
    },
    "id": "06BqCSXZhMnP",
    "outputId": "a982ae34-679f-4193-af47-b321d513b274"
   },
   "outputs": [
    {
     "data": {
      "text/plain": [
       "0.8113814598833702"
      ]
     },
     "execution_count": 25,
     "metadata": {},
     "output_type": "execute_result"
    }
   ],
   "source": [
    "predicted_test_obj2 = model2(X_test_obj2)\n",
    "acc_test_obj2 = np.mean((predicted_test_obj2.view(-1).round() == y_test_obj2.view(-1)).data.numpy())\n",
    "acc_test_obj2"
   ]
  },
  {
   "cell_type": "code",
   "execution_count": null,
   "metadata": {
    "colab": {
     "base_uri": "https://localhost:8080/"
    },
    "id": "S0z_Hjq_x5bM",
    "outputId": "eecd317e-d5c4-4601-ec4b-3dc7f7694950"
   },
   "outputs": [
    {
     "data": {
      "text/plain": [
       "0.8244665400513909"
      ]
     },
     "execution_count": 26,
     "metadata": {},
     "output_type": "execute_result"
    }
   ],
   "source": [
    "predicted_train_obj2 = model2(Variable(torch.tensor(X_train_obj2.to_numpy())).float().to(device))\n",
    "acc_train_obj2 = np.mean((predicted_train_obj2.view(-1).round() == Variable(torch.tensor(y_train_obj2.to_numpy())).float().to(device).view(-1)).data.numpy())\n",
    "acc_train_obj2"
   ]
  },
  {
   "cell_type": "code",
   "execution_count": null,
   "metadata": {
    "colab": {
     "base_uri": "https://localhost:8080/"
    },
    "id": "O0Gxe5Lwh3LH",
    "outputId": "881ea337-0860-4964-d615-83ac963d6f78"
   },
   "outputs": [
    {
     "data": {
      "text/plain": [
       "tensor([[0.3566],\n",
       "        [0.6281],\n",
       "        [0.6516],\n",
       "        ...,\n",
       "        [0.1017],\n",
       "        [0.9926],\n",
       "        [0.1177]], grad_fn=<SigmoidBackward0>)"
      ]
     },
     "execution_count": 27,
     "metadata": {},
     "output_type": "execute_result"
    }
   ],
   "source": [
    "predicted_test_obj2"
   ]
  },
  {
   "cell_type": "code",
   "execution_count": null,
   "metadata": {
    "id": "L3dFSwWVOZ8K"
   },
   "outputs": [],
   "source": [
    "torch.save(model, \"model_obj2_100_with2.pt\")\n",
    "#model = torch.load(\"model_obj1_100.pt\")"
   ]
  },
  {
   "cell_type": "code",
   "execution_count": null,
   "metadata": {
    "colab": {
     "base_uri": "https://localhost:8080/",
     "height": 312
    },
    "id": "tH_mPFiUGdji",
    "outputId": "e35dd5bd-cc84-47e3-d085-266fabaab0bb"
   },
   "outputs": [
    {
     "data": {
      "text/plain": [
       "<matplotlib.legend.Legend at 0x7fbba1a65350>"
      ]
     },
     "execution_count": 27,
     "metadata": {},
     "output_type": "execute_result"
    },
    {
     "data": {
      "image/png": "[encoded data removed]",
      "text/plain": [
       "<Figure size 432x288 with 1 Axes>"
      ]
     },
     "metadata": {
      "needs_background": "light"
     },
     "output_type": "display_data"
    }
   ],
   "source": [
    "fpr, tpr, thresholds = roc_curve(y_test_obj2.view(-1).data.numpy(), predicted_test_obj2.view(-1).round().data.numpy())\n",
    "roc_auc = auc(fpr, tpr)\n",
    "\n",
    "plt.plot(fpr, tpr, label='ROC curve (area = %0.3f)' % roc_auc, color='b')\n",
    "plt.plot([0, 1], [0, 1], 'k--')  # random predictions curve\n",
    "plt.xlim([0.0, 1.0])\n",
    "plt.ylim([0.0, 1.0])\n",
    "plt.xlabel('False Positive Rate or (1 - Specifity)')\n",
    "plt.ylabel('True Positive Rate or (Sensitivity)')\n",
    "plt.title('Receiver Operating Characteristic')\n",
    "plt.legend(loc=\"lower right\")\n",
    "#helped from stackoverflow.com"
   ]
  },
  {
   "cell_type": "code",
   "execution_count": null,
   "metadata": {
    "id": "6ehjlhs_bSqL"
   },
   "outputs": [],
   "source": [
    "kfold = KFold(n_splits=5, shuffle=True, random_state=2)\n",
    "\n",
    "EPOCHS = 250\n",
    "\n",
    "acc_k_all = []\n",
    "\n",
    "accuracy_train = []\n",
    "\n",
    "All_loss = []\n",
    "\n",
    "tot_loss2 = []\n",
    "\n",
    "for train_index, test_index in kfold.split(X_train_obj2):\n",
    "  Xi_train_kfold, Xi_test_kfold = X_train_obj2.iloc[train_index,:], X_train_obj2.iloc[test_index,:]\n",
    "\n",
    "  yi_train_kfold, yi_test_kfold = y_train_obj2.iloc[train_index], y_train_obj2.iloc[test_index]\n",
    "\n",
    "  train_dataset_kfold = Datasetload(Xi_train_kfold, yi_train_kfold)\n",
    "  train_loader_kfold = DataLoader(train_dataset_kfold, batch_size=128, shuffle=True)\n",
    "\n",
    "  Xi_test_kfold  = Variable(torch.tensor(Xi_test_kfold.to_numpy())).float().to(device)\n",
    "  yi_test_kfold  = Variable(torch.tensor(yi_test_kfold.to_numpy())).long().to(device)\n",
    "\n",
    "\n",
    "  for epoch in range(EPOCHS):\n",
    "    for data in train_loader_kfold:\n",
    "      My_X, My_y=data\n",
    "\n",
    "      My_X, My_y = data\n",
    "    optimizer2.zero_grad()\n",
    "    y_pred = model2(My_X.view(-1, 15).float())\n",
    "    #new_shape = (len(y_pred), 1)\n",
    "    loss = loss_fn2(y_pred.view(-1), My_y.view(-1).float()) #loss(input, target)\n",
    "    All_loss.append(loss)\n",
    "\n",
    "    loss.backward()\n",
    "    optimizer2.step()\n",
    "    tot_loss2.append(loss.cpu().data.numpy())\n",
    "\n",
    "\n",
    "  with torch.no_grad():\n",
    "    predicted = model2(Variable(torch.tensor(X_train_obj2.to_numpy())).float().to(device))\n",
    "      #acc = np.mean(([predicted.reshape(-1).round() == My_y.reshape(-1)]))\n",
    "    acc2 = np.mean((predicted.view(-1).round() == Variable(torch.tensor(y_train_obj2.to_numpy())).float().to(device).view(-1)).data.numpy())\n",
    "  accuracy_train.append(acc2)\n",
    "\n",
    "\n",
    "  y_test_pred_K = model2(Xi_test_kfold)\n",
    "  acc = np.mean((y_test_pred_K.view(-1).round() == yi_test_kfold.view(-1)).data.numpy())\n",
    "\n",
    "  acc_k_all.append(acc)\n",
    "\n"
   ]
  },
  {
   "cell_type": "code",
   "execution_count": null,
   "metadata": {
    "colab": {
     "base_uri": "https://localhost:8080/",
     "height": 282
    },
    "id": "RLtu_lQe3P8k",
    "outputId": "d03ad3db-efd4-4637-fda7-d2d18a73314a"
   },
   "outputs": [
    {
     "data": {
      "text/plain": [
       "[<matplotlib.lines.Line2D at 0x7ff7784f1050>]"
      ]
     },
     "execution_count": 24,
     "metadata": {},
     "output_type": "execute_result"
    },
    {
     "data": {
      "image/png": "[encoded data removed]",
      "text/plain": [
       "<Figure size 432x288 with 1 Axes>"
      ]
     },
     "metadata": {
      "needs_background": "light"
     },
     "output_type": "display_data"
    }
   ],
   "source": [
    "plt.plot(accuracy_train)"
   ]
  },
  {
   "cell_type": "code",
   "execution_count": null,
   "metadata": {
    "colab": {
     "base_uri": "https://localhost:8080/"
    },
    "id": "HtF3Am0sjCCt",
    "outputId": "3136aeba-0742-4d46-e838-68509cd4d107"
   },
   "outputs": [
    {
     "data": {
      "text/plain": [
       "[0.7231594235280974,\n",
       " 0.7424868729750865,\n",
       " 0.7603619707295274,\n",
       " 0.7572338286225003,\n",
       " 0.7686292034409563]"
      ]
     },
     "execution_count": 24,
     "metadata": {},
     "output_type": "execute_result"
    }
   ],
   "source": [
    "acc_k_all"
   ]
  },
  {
   "cell_type": "code",
   "execution_count": null,
   "metadata": {
    "colab": {
     "base_uri": "https://localhost:8080/"
    },
    "id": "HumMp0e73eWh",
    "outputId": "b5d8cd52-ed50-4fbd-adf2-88560523d278"
   },
   "outputs": [
    {
     "data": {
      "text/plain": [
       "0.7503742598592336"
      ]
     },
     "execution_count": 25,
     "metadata": {},
     "output_type": "execute_result"
    }
   ],
   "source": [
    "np.mean(acc_k_all)"
   ]
  },
  {
   "cell_type": "markdown",
   "metadata": {},
   "source": [
    "# Data Exploration\n",
    "Determine (graphically) if there are any obvious relationships in the data that could help us decide which variables to include in our model."
   ]
  },
  {
   "cell_type": "code",
   "execution_count": null,
   "metadata": {},
   "outputs": [],
   "source": [
    "import seaborn as sns\n",
    "import matplotlib.pyplot as plt\n",
    "import numpy as np\n",
    "import pandas as pd\n",
    "from sklearn.preprocessing import MinMaxScaler, StandardScaler\n",
    "from sklearn.model_selection import train_test_split\n",
    "from sklearn.preprocessing import LabelEncoder"
   ]
  },
  {
   "cell_type": "code",
   "execution_count": null,
   "metadata": {},
   "outputs": [],
   "source": [
    "hist = pd.read_csv('Property_Assessment_Data__Historical_.csv') # Historical data.\n",
    "re_data = pd.read_csv('EdmontonRealEstateData.csv') # Real estate (main) data."
   ]
  },
  {
   "cell_type": "code",
   "execution_count": null,
   "metadata": {},
   "outputs": [],
   "source": [
    "hist_2016 = hist[hist['Assessment Year'] == 2016][['Account Number', 'Assessed Value']].rename(columns={'Assessed Value': 'Assessed Value 2016'})\n",
    "hist_2016 = hist_2016.set_index('Account Number')\n",
    "re_data_ext = re_data.set_index('taxroll_number').join(hist_2016) # The data now contains a column for the assessed value in 2016."
   ]
  },
  {
   "cell_type": "code",
   "execution_count": null,
   "metadata": {},
   "outputs": [],
   "source": [
    "Data = re_data_ext[['property_type', 'effective_build_year', 'net_area', 'basement_finished', 'has_garage', 'has_fireplace',\n",
    "                            'assessed_value','fully_taxable', 'walkout_basement' ,'air_conditioning', 'valuation_group',\n",
    "                    'display_type', 'site_coverage','lon', 'lat','Assessed Value 2016']]\n",
    "\n",
    "Data.dropna(inplace=True)\n",
    "Data = Data.loc[(Data['property_type']=='RESIDENTIAL') & (Data['display_type']=='RES')]\n",
    "Data.drop(['property_type', 'display_type'], axis =1, inplace=True)"
   ]
  },
  {
   "cell_type": "code",
   "execution_count": null,
   "metadata": {},
   "outputs": [],
   "source": [
    "'''\n",
    "# removing outliers\n",
    "z= np.abs(stats.zscore(Data['assessed_value'])) # Utilizing zscore to remove outliers\n",
    "filtered_df = (z < 3) # Removing values with zscore greater than 3 standard deviation\n",
    "Data = Data[filtered_df] # Filtered data set with removed outliers\n",
    "\n",
    "#Normalizing data\n",
    "scaler = MinMaxScaler()\n",
    "numerical = Data.select_dtypes(include='float64').columns\n",
    "Data.loc[:,numerical]=scaler.fit_transform(Data.loc[:,numerical])\n",
    "'''"
   ]
  },
  {
   "cell_type": "code",
   "execution_count": null,
   "metadata": {
    "colab": {
     "base_uri": "https://localhost:8080/",
     "height": 379
    },
    "id": "V_bpMZmrFTQP",
    "outputId": "17cdb9ca-c19b-44b0-8705-edec84cd6572"
   },
   "outputs": [
    {
     "data": {
      "text/html": [
       "<div>\n",
       "<style scoped>\n",
       "    .dataframe tbody tr th:only-of-type {\n",
       "        vertical-align: middle;\n",
       "    }\n",
       "\n",
       "    .dataframe tbody tr th {\n",
       "        vertical-align: top;\n",
       "    }\n",
       "\n",
       "    .dataframe thead th {\n",
       "        text-align: right;\n",
       "    }\n",
       "</style>\n",
       "<table border=\"1\" class=\"dataframe\">\n",
       "  <thead>\n",
       "    <tr style=\"text-align: right;\">\n",
       "      <th></th>\n",
       "      <th>effective_build_year</th>\n",
       "      <th>net_area</th>\n",
       "      <th>basement_finished</th>\n",
       "      <th>has_garage</th>\n",
       "      <th>has_fireplace</th>\n",
       "      <th>assessed_value</th>\n",
       "      <th>fully_taxable</th>\n",
       "      <th>walkout_basement</th>\n",
       "      <th>air_conditioning</th>\n",
       "      <th>valuation_group</th>\n",
       "      <th>site_coverage</th>\n",
       "      <th>lon</th>\n",
       "      <th>lat</th>\n",
       "      <th>Assessed Value 2016</th>\n",
       "      <th>Price Increase</th>\n",
       "      <th>Basement_encoded</th>\n",
       "      <th>Garage_encoded</th>\n",
       "      <th>fireplace_encoded</th>\n",
       "      <th>Walkoutbase_encod</th>\n",
       "      <th>AC_encoded</th>\n",
       "      <th>ftaxable_encoded</th>\n",
       "      <th>valgroup_encoded</th>\n",
       "    </tr>\n",
       "    <tr>\n",
       "      <th>taxroll_number</th>\n",
       "      <th></th>\n",
       "      <th></th>\n",
       "      <th></th>\n",
       "      <th></th>\n",
       "      <th></th>\n",
       "      <th></th>\n",
       "      <th></th>\n",
       "      <th></th>\n",
       "      <th></th>\n",
       "      <th></th>\n",
       "      <th></th>\n",
       "      <th></th>\n",
       "      <th></th>\n",
       "      <th></th>\n",
       "      <th></th>\n",
       "      <th></th>\n",
       "      <th></th>\n",
       "      <th></th>\n",
       "      <th></th>\n",
       "      <th></th>\n",
       "      <th></th>\n",
       "      <th></th>\n",
       "    </tr>\n",
       "  </thead>\n",
       "  <tbody>\n",
       "    <tr>\n",
       "      <th>10195786</th>\n",
       "      <td>0.972477</td>\n",
       "      <td>0.073980</td>\n",
       "      <td>Yes</td>\n",
       "      <td>Yes</td>\n",
       "      <td>Yes</td>\n",
       "      <td>0.036054</td>\n",
       "      <td>Yes</td>\n",
       "      <td>NO</td>\n",
       "      <td>NO</td>\n",
       "      <td>RESIDENTIAL SOUTH</td>\n",
       "      <td>0.384615</td>\n",
       "      <td>0.676753</td>\n",
       "      <td>0.091337</td>\n",
       "      <td>0.036413</td>\n",
       "      <td>1</td>\n",
       "      <td>1</td>\n",
       "      <td>1</td>\n",
       "      <td>1</td>\n",
       "      <td>0</td>\n",
       "      <td>0</td>\n",
       "      <td>1</td>\n",
       "      <td>0</td>\n",
       "    </tr>\n",
       "    <tr>\n",
       "      <th>10195785</th>\n",
       "      <td>0.972477</td>\n",
       "      <td>0.069563</td>\n",
       "      <td>NO</td>\n",
       "      <td>Yes</td>\n",
       "      <td>Yes</td>\n",
       "      <td>0.033908</td>\n",
       "      <td>Yes</td>\n",
       "      <td>NO</td>\n",
       "      <td>NO</td>\n",
       "      <td>RESIDENTIAL SOUTH</td>\n",
       "      <td>0.446154</td>\n",
       "      <td>0.676182</td>\n",
       "      <td>0.091209</td>\n",
       "      <td>0.034189</td>\n",
       "      <td>1</td>\n",
       "      <td>0</td>\n",
       "      <td>1</td>\n",
       "      <td>1</td>\n",
       "      <td>0</td>\n",
       "      <td>0</td>\n",
       "      <td>1</td>\n",
       "      <td>0</td>\n",
       "    </tr>\n",
       "    <tr>\n",
       "      <th>10195784</th>\n",
       "      <td>0.972477</td>\n",
       "      <td>0.069689</td>\n",
       "      <td>NO</td>\n",
       "      <td>Yes</td>\n",
       "      <td>Yes</td>\n",
       "      <td>0.034330</td>\n",
       "      <td>Yes</td>\n",
       "      <td>NO</td>\n",
       "      <td>NO</td>\n",
       "      <td>RESIDENTIAL SOUTH</td>\n",
       "      <td>0.476923</td>\n",
       "      <td>0.675737</td>\n",
       "      <td>0.091176</td>\n",
       "      <td>0.034528</td>\n",
       "      <td>1</td>\n",
       "      <td>0</td>\n",
       "      <td>1</td>\n",
       "      <td>1</td>\n",
       "      <td>0</td>\n",
       "      <td>0</td>\n",
       "      <td>1</td>\n",
       "      <td>0</td>\n",
       "    </tr>\n",
       "    <tr>\n",
       "      <th>10195783</th>\n",
       "      <td>0.963303</td>\n",
       "      <td>0.071582</td>\n",
       "      <td>NO</td>\n",
       "      <td>Yes</td>\n",
       "      <td>Yes</td>\n",
       "      <td>0.034291</td>\n",
       "      <td>Yes</td>\n",
       "      <td>NO</td>\n",
       "      <td>NO</td>\n",
       "      <td>RESIDENTIAL SOUTH</td>\n",
       "      <td>0.507692</td>\n",
       "      <td>0.675348</td>\n",
       "      <td>0.091171</td>\n",
       "      <td>0.035282</td>\n",
       "      <td>1</td>\n",
       "      <td>0</td>\n",
       "      <td>1</td>\n",
       "      <td>1</td>\n",
       "      <td>0</td>\n",
       "      <td>0</td>\n",
       "      <td>1</td>\n",
       "      <td>0</td>\n",
       "    </tr>\n",
       "    <tr>\n",
       "      <th>10195782</th>\n",
       "      <td>0.963303</td>\n",
       "      <td>0.082310</td>\n",
       "      <td>NO</td>\n",
       "      <td>Yes</td>\n",
       "      <td>Yes</td>\n",
       "      <td>0.035977</td>\n",
       "      <td>Yes</td>\n",
       "      <td>NO</td>\n",
       "      <td>NO</td>\n",
       "      <td>RESIDENTIAL SOUTH</td>\n",
       "      <td>0.523077</td>\n",
       "      <td>0.674956</td>\n",
       "      <td>0.091159</td>\n",
       "      <td>0.036149</td>\n",
       "      <td>1</td>\n",
       "      <td>0</td>\n",
       "      <td>1</td>\n",
       "      <td>1</td>\n",
       "      <td>0</td>\n",
       "      <td>0</td>\n",
       "      <td>1</td>\n",
       "      <td>0</td>\n",
       "    </tr>\n",
       "  </tbody>\n",
       "</table>\n",
       "</div>"
      ],
      "text/plain": [
       "                effective_build_year  ...  valgroup_encoded\n",
       "taxroll_number                        ...                  \n",
       "10195786                    0.972477  ...                 0\n",
       "10195785                    0.972477  ...                 0\n",
       "10195784                    0.972477  ...                 0\n",
       "10195783                    0.963303  ...                 0\n",
       "10195782                    0.963303  ...                 0\n",
       "\n",
       "[5 rows x 22 columns]"
      ]
     },
     "execution_count": 21,
     "metadata": {},
     "output_type": "execute_result"
    }
   ],
   "source": [
    "# Using label encoding to convert categorical variables to factors/nominal variables.\n",
    "\n",
    "Data['Basement_encoded']  = LabelEncoder().fit_transform(Data['basement_finished'])\n",
    "Data['Garage_encoded']    = LabelEncoder().fit_transform(Data['has_garage'])\n",
    "Data['fireplace_encoded'] = LabelEncoder().fit_transform(Data['has_fireplace'])\n",
    "Data['Walkoutbase_encod'] = LabelEncoder().fit_transform(Data['walkout_basement'])\n",
    "Data['AC_encoded']        = LabelEncoder().fit_transform(Data['air_conditioning'])\n",
    "Data['ftaxable_encoded']  = LabelEncoder().fit_transform(Data['fully_taxable'])\n",
    "Data['valgroup_encoded']  = Data['valuation_group'].map({'RESIDENTIAL SOUTH':0, 'RESIDENTIAL NORTH':1, 'RESIDENTIAL WC':2,\n",
    "       'RESIDENTIAL RIVVAL':3, 'SPECIAL PURPOSE':4, 'LAND': 5, 'RESIDENTIAL LAND':6})\n",
    "\n",
    "Data.head()"
   ]
  },
  {
   "cell_type": "code",
   "execution_count": null,
   "metadata": {
    "colab": {
     "base_uri": "https://localhost:8080/",
     "height": 255
    },
    "id": "qy33hf-SJsK7",
    "outputId": "5ae251bf-3eb8-4fc4-c27d-a3407ed101a9"
   },
   "outputs": [
    {
     "data": {
      "text/html": [
       "<div>\n",
       "<style scoped>\n",
       "    .dataframe tbody tr th:only-of-type {\n",
       "        vertical-align: middle;\n",
       "    }\n",
       "\n",
       "    .dataframe tbody tr th {\n",
       "        vertical-align: top;\n",
       "    }\n",
       "\n",
       "    .dataframe thead th {\n",
       "        text-align: right;\n",
       "    }\n",
       "</style>\n",
       "<table border=\"1\" class=\"dataframe\">\n",
       "  <thead>\n",
       "    <tr style=\"text-align: right;\">\n",
       "      <th></th>\n",
       "      <th>effective_build_year</th>\n",
       "      <th>net_area</th>\n",
       "      <th>assessed_value</th>\n",
       "      <th>site_coverage</th>\n",
       "      <th>lon</th>\n",
       "      <th>lat</th>\n",
       "      <th>valgroup_encoded</th>\n",
       "      <th>Basement_encoded</th>\n",
       "      <th>Garage_encoded</th>\n",
       "      <th>fireplace_encoded</th>\n",
       "      <th>Walkoutbase_encod</th>\n",
       "      <th>AC_encoded</th>\n",
       "      <th>ftaxable_encoded</th>\n",
       "      <th>Assessed Value 2016</th>\n",
       "    </tr>\n",
       "    <tr>\n",
       "      <th>taxroll_number</th>\n",
       "      <th></th>\n",
       "      <th></th>\n",
       "      <th></th>\n",
       "      <th></th>\n",
       "      <th></th>\n",
       "      <th></th>\n",
       "      <th></th>\n",
       "      <th></th>\n",
       "      <th></th>\n",
       "      <th></th>\n",
       "      <th></th>\n",
       "      <th></th>\n",
       "      <th></th>\n",
       "      <th></th>\n",
       "    </tr>\n",
       "  </thead>\n",
       "  <tbody>\n",
       "    <tr>\n",
       "      <th>10195786</th>\n",
       "      <td>0.972477</td>\n",
       "      <td>0.073980</td>\n",
       "      <td>0.036054</td>\n",
       "      <td>0.384615</td>\n",
       "      <td>0.676753</td>\n",
       "      <td>0.091337</td>\n",
       "      <td>0</td>\n",
       "      <td>1</td>\n",
       "      <td>1</td>\n",
       "      <td>1</td>\n",
       "      <td>0</td>\n",
       "      <td>0</td>\n",
       "      <td>1</td>\n",
       "      <td>0.036413</td>\n",
       "    </tr>\n",
       "    <tr>\n",
       "      <th>10195785</th>\n",
       "      <td>0.972477</td>\n",
       "      <td>0.069563</td>\n",
       "      <td>0.033908</td>\n",
       "      <td>0.446154</td>\n",
       "      <td>0.676182</td>\n",
       "      <td>0.091209</td>\n",
       "      <td>0</td>\n",
       "      <td>0</td>\n",
       "      <td>1</td>\n",
       "      <td>1</td>\n",
       "      <td>0</td>\n",
       "      <td>0</td>\n",
       "      <td>1</td>\n",
       "      <td>0.034189</td>\n",
       "    </tr>\n",
       "    <tr>\n",
       "      <th>10195784</th>\n",
       "      <td>0.972477</td>\n",
       "      <td>0.069689</td>\n",
       "      <td>0.034330</td>\n",
       "      <td>0.476923</td>\n",
       "      <td>0.675737</td>\n",
       "      <td>0.091176</td>\n",
       "      <td>0</td>\n",
       "      <td>0</td>\n",
       "      <td>1</td>\n",
       "      <td>1</td>\n",
       "      <td>0</td>\n",
       "      <td>0</td>\n",
       "      <td>1</td>\n",
       "      <td>0.034528</td>\n",
       "    </tr>\n",
       "    <tr>\n",
       "      <th>10195783</th>\n",
       "      <td>0.963303</td>\n",
       "      <td>0.071582</td>\n",
       "      <td>0.034291</td>\n",
       "      <td>0.507692</td>\n",
       "      <td>0.675348</td>\n",
       "      <td>0.091171</td>\n",
       "      <td>0</td>\n",
       "      <td>0</td>\n",
       "      <td>1</td>\n",
       "      <td>1</td>\n",
       "      <td>0</td>\n",
       "      <td>0</td>\n",
       "      <td>1</td>\n",
       "      <td>0.035282</td>\n",
       "    </tr>\n",
       "    <tr>\n",
       "      <th>10195782</th>\n",
       "      <td>0.963303</td>\n",
       "      <td>0.082310</td>\n",
       "      <td>0.035977</td>\n",
       "      <td>0.523077</td>\n",
       "      <td>0.674956</td>\n",
       "      <td>0.091159</td>\n",
       "      <td>0</td>\n",
       "      <td>0</td>\n",
       "      <td>1</td>\n",
       "      <td>1</td>\n",
       "      <td>0</td>\n",
       "      <td>0</td>\n",
       "      <td>1</td>\n",
       "      <td>0.036149</td>\n",
       "    </tr>\n",
       "  </tbody>\n",
       "</table>\n",
       "</div>"
      ],
      "text/plain": [
       "                effective_build_year  ...  Assessed Value 2016\n",
       "taxroll_number                        ...                     \n",
       "10195786                    0.972477  ...             0.036413\n",
       "10195785                    0.972477  ...             0.034189\n",
       "10195784                    0.972477  ...             0.034528\n",
       "10195783                    0.963303  ...             0.035282\n",
       "10195782                    0.963303  ...             0.036149\n",
       "\n",
       "[5 rows x 14 columns]"
      ]
     },
     "execution_count": 22,
     "metadata": {},
     "output_type": "execute_result"
    }
   ],
   "source": [
    "data_clean = Data[['effective_build_year', 'net_area','assessed_value','site_coverage',\t'lon','lat', 'valgroup_encoded',\n",
    "                  'Basement_encoded',\t'Garage_encoded',\t'fireplace_encoded', 'Walkoutbase_encod',\t'AC_encoded',\t'ftaxable_encoded', 'Assessed Value 2016']]\n",
    "\n",
    "data_clean.head()"
   ]
  },
  {
   "cell_type": "code",
   "execution_count": null,
   "metadata": {
    "colab": {
     "base_uri": "https://localhost:8080/"
    },
    "id": "Pa1sIbpmrMdj",
    "outputId": "848e1087-8631-4c65-c04d-08ccc33afcd6"
   },
   "outputs": [
    {
     "data": {
      "text/plain": [
       "effective_build_year    float64\n",
       "net_area                float64\n",
       "assessed_value          float64\n",
       "site_coverage           float64\n",
       "lon                     float64\n",
       "lat                     float64\n",
       "valgroup_encoded          int64\n",
       "Basement_encoded          int64\n",
       "Garage_encoded            int64\n",
       "fireplace_encoded         int64\n",
       "Walkoutbase_encod         int64\n",
       "AC_encoded                int64\n",
       "ftaxable_encoded          int64\n",
       "Assessed Value 2016     float64\n",
       "dtype: object"
      ]
     },
     "execution_count": 23,
     "metadata": {},
     "output_type": "execute_result"
    }
   ],
   "source": [
    "data_clean.dtypes"
   ]
  },
  {
   "cell_type": "code",
   "execution_count": null,
   "metadata": {
    "id": "B0xXtnk16LlV"
   },
   "outputs": [],
   "source": [
    "# Some type conversion.\n",
    "data_clean.loc[:, 'effective_build_year'] = data_clean['effective_build_year'].astype('int64')\n",
    "data_clean.loc[:, 'assessed_value'] = data_clean['assessed_value'].astype('float64')\n",
    "# The below line seems overly complicated but gets rid of the comma so that we can convert from type object to a float.\n",
    "data_clean.loc[:, 'Assessed Value 2016'] = data_clean.loc[:, 'Assessed Value 2016'].apply(lambda x: float(x.replace(',','')))"
   ]
  },
  {
   "cell_type": "code",
   "execution_count": null,
   "metadata": {
    "colab": {
     "base_uri": "https://localhost:8080/"
    },
    "id": "MTlZqnOch2PW",
    "outputId": "e9b59145-06aa-493f-c039-858969d91f49"
   },
   "outputs": [
    {
     "data": {
      "text/plain": [
       "effective_build_year      int64\n",
       "net_area                float64\n",
       "assessed_value          float64\n",
       "site_coverage           float64\n",
       "lon                     float64\n",
       "lat                     float64\n",
       "valgroup_encoded          int64\n",
       "Basement_encoded          int64\n",
       "Garage_encoded            int64\n",
       "fireplace_encoded         int64\n",
       "Walkoutbase_encod         int64\n",
       "AC_encoded                int64\n",
       "ftaxable_encoded          int64\n",
       "Assessed Value 2016     float64\n",
       "dtype: object"
      ]
     },
     "execution_count": 28,
     "metadata": {},
     "output_type": "execute_result"
    }
   ],
   "source": [
    "data_clean.dtypes"
   ]
  },
  {
   "cell_type": "code",
   "execution_count": null,
   "metadata": {
    "colab": {
     "base_uri": "https://localhost:8080/",
     "height": 743
    },
    "id": "Ixau0tTXgsY5",
    "outputId": "3e1691d6-b2a6-4f77-a9b8-02e69be5ffcd"
   },
   "outputs": [
    {
     "data": {
      "text/plain": [
       "<seaborn.axisgrid.PairGrid at 0x7fdfc5b233d0>"
      ]
     },
     "execution_count": 74,
     "metadata": {},
     "output_type": "execute_result"
    },
    {
     "data": {
      "image/png": "[encoded data removed]",
      "text/plain": [
       "<Figure size 720x720 with 14 Axes>"
      ]
     },
     "metadata": {},
     "output_type": "display_data"
    }
   ],
   "source": [
    "sns.pairplot(data_clean[['effective_build_year', 'net_area', 'assessed_value', 'Assessed Value 2016']], corner = True)"
   ]
  },
  {
   "cell_type": "code",
   "execution_count": null,
   "metadata": {
    "id": "hOpK_7pOlVJF"
   },
   "outputs": [],
   "source": [
    "corr = data_clean[['effective_build_year', 'net_area', 'assessed_value', 'Assessed Value 2016']].corr()"
   ]
  },
  {
   "cell_type": "code",
   "execution_count": null,
   "metadata": {
    "colab": {
     "base_uri": "https://localhost:8080/",
     "height": 555
    },
    "id": "VfdBQcHjlonV",
    "outputId": "975650d4-d44b-4762-dfc5-b7b5356bb5d9"
   },
   "outputs": [
    {
     "data": {
      "text/plain": [
       "<matplotlib.axes._subplots.AxesSubplot at 0x7fdfc285aad0>"
      ]
     },
     "execution_count": 83,
     "metadata": {},
     "output_type": "execute_result"
    },
    {
     "data": {
      "image/png": "[encoded data removed]",
      "text/plain": [
       "<Figure size 792x648 with 2 Axes>"
      ]
     },
     "metadata": {},
     "output_type": "display_data"
    }
   ],
   "source": [
    "# Generate a mask for the upper triangle\n",
    "mask = np.triu(np.ones_like(corr, dtype=bool))\n",
    "\n",
    "# Set up the matplotlib figure\n",
    "f, ax = plt.subplots(figsize=(11, 9))\n",
    "\n",
    "# Generate a custom diverging colormap\n",
    "cmap = sns.diverging_palette(230, 20, as_cmap=True)\n",
    "\n",
    "# Draw the heatmap with the mask and correct aspect ratio\n",
    "sns.heatmap(corr, mask=mask, cmap=cmap, vmax=.3, center=0,\n",
    "            square=True, linewidths=.5, cbar_kws={\"shrink\": .5})"
   ]
  }
 ],
 "metadata": {
  "colab": {
   "provenance": []
  },
  "kernelspec": {
   "display_name": "Python 3 (ipykernel)",
   "language": "python",
   "name": "python3"
  },
  "language_info": {
   "codemirror_mode": {
    "name": "ipython",
    "version": 3
   },
   "file_extension": ".py",
   "mimetype": "text/x-python",
   "name": "python",
   "nbconvert_exporter": "python",
   "pygments_lexer": "ipython3",
   "version": "3.9.7"
  }
 },
 "nbformat": 4,
 "nbformat_minor": 4
}
